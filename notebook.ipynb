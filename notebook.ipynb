{
  "nbformat": 4,
  "nbformat_minor": 0,
  "metadata": {
    "colab": {
      "provenance": []
    },
    "kernelspec": {
      "name": "python3",
      "display_name": "Python 3"
    },
    "language_info": {
      "name": "python"
    },
    "gpuClass": "standard"
  },
  "cells": [
    {
      "cell_type": "markdown",
      "source": [
        "#1.Abstract\n",
        "\n"
      ],
      "metadata": {
        "id": "G5wtXMi0cDCS"
      }
    },
    {
      "cell_type": "markdown",
      "source": [
        "According to Wikipedia, Fake news is false or misleading information presented as news. \n",
        "\n",
        "Recently, fake news is becoming a worldwide problem. Through different media, we are easily exposed to and influenced by different stories.\n",
        "\n",
        "We want to analyze the pattern of fake news and attempt to find a way to predict the truthfulness of news. Fake news detection on social media presents unique challenges. We are using an exsiting dataset, so we do not know if there is any mislabeling. By doing an EDA process, we hope to get a grasp of the characteristics of a fake news and figure out a method to determine them.\n",
        "\n",
        "We plan to use different machine-learning mechanisms to build models for predictions. The current choices we are considering include Logistic Regression, Naive Bayes, and Neural Networks."
      ],
      "metadata": {
        "id": "KGB1SRXMvA6f"
      }
    },
    {
      "cell_type": "markdown",
      "source": [
        "data link: https://drive.google.com/drive/folders/1vkOXyyswXLSdOhdM4GOSBgdemVXp8O7L?usp=sharing"
      ],
      "metadata": {
        "id": "67eXvhF1b1Jl"
      }
    },
    {
      "cell_type": "markdown",
      "source": [
        "#2.Import and Data Loading"
      ],
      "metadata": {
        "id": "ePV1hiYDcTdR"
      }
    },
    {
      "cell_type": "markdown",
      "source": [
        "In this part of the project, we import the packages needed for processing and modeling the data. We choose to mainly use pandas, numpy and nltk to process the data and text included in the datasets. In addition, we use wordcloud and seaborn to do data visualizations. We will also utlize machine learning libraray such as sklearn to build up models and design neural network to classify and analyze news."
      ],
      "metadata": {
        "id": "VYXMuaFteCzi"
      }
    },
    {
      "cell_type": "code",
      "source": [
        "import pandas as pd\n",
        "import numpy as np\n",
        "import re\n",
        "import string\n",
        "\n",
        "import matplotlib.pyplot as plt\n",
        "from wordcloud import WordCloud\n",
        "import seaborn as sns\n",
        "\n",
        "import nltk\n",
        "nltk.download('stopwords')\n",
        "from nltk.stem.porter import PorterStemmer\n",
        "from nltk.corpus import stopwords\n",
        "\n",
        "from sklearn.model_selection import train_test_split\n",
        "from sklearn.metrics import confusion_matrix\n",
        "from sklearn.feature_extraction.text import TfidfVectorizer\n",
        "from sklearn.linear_model import LogisticRegression\n",
        "from sklearn.naive_bayes import MultinomialNB\n",
        "from sklearn import feature_extraction\n",
        "from sklearn.linear_model import SGDClassifier\n",
        "\n",
        "import torch\n",
        "import torchvision\n",
        "from torchvision import transforms, utils\n",
        "import torch.nn as nn\n",
        "import torch.optim as optim\n",
        "import torchvision.transforms as transforms\n",
        "from torch.utils.data import Dataset, DataLoader\n",
        "\n",
        "from keras.preprocessing.text import Tokenizer\n",
        "from keras_preprocessing.sequence import pad_sequences\n",
        "from keras.layers import Bidirectional\n",
        "from keras.models import Sequential\n",
        "from keras.layers import LSTM,Dense,Dropout,Embedding\n",
        "from keras.initializers import Constant\n",
        "from keras.optimizers import Adam"
      ],
      "metadata": {
        "colab": {
          "base_uri": "https://localhost:8080/"
        },
        "id": "TwCSiZoIcYen",
        "outputId": "e5300c9b-f567-40c9-bf32-57a444890810"
      },
      "execution_count": null,
      "outputs": [
        {
          "output_type": "stream",
          "name": "stderr",
          "text": [
            "[nltk_data] Downloading package stopwords to /root/nltk_data...\n",
            "[nltk_data]   Unzipping corpora/stopwords.zip.\n"
          ]
        }
      ]
    },
    {
      "cell_type": "markdown",
      "source": [
        "The dataset we used are from Kaggle (https://www.kaggle.com/datasets/clmentbisaillon/fake-and-real-news-dataset). The dataset is made from two csv files, one with 23481 instances of fake news and the other with 21417 instances of real news. The labels of data include the title of the news, the text content of the news, the subject of the news and the date when the news were posted."
      ],
      "metadata": {
        "id": "xPLHyoqulsCQ"
      }
    },
    {
      "cell_type": "code",
      "source": [
        "fake_df = pd.read_csv('Fake.csv')\n",
        "real_df = pd.read_csv('True.csv')"
      ],
      "metadata": {
        "id": "9j0E_B7_oWGM"
      },
      "execution_count": null,
      "outputs": []
    },
    {
      "cell_type": "markdown",
      "source": [
        "A look at the loaded data."
      ],
      "metadata": {
        "id": "NS5GuNv3pKfn"
      }
    },
    {
      "cell_type": "code",
      "source": [
        "fake_df.head()"
      ],
      "metadata": {
        "colab": {
          "base_uri": "https://localhost:8080/",
          "height": 206
        },
        "id": "N7aguGkzpX5Y",
        "outputId": "6a26edae-61e2-44d2-d741-b3a5062bdacc"
      },
      "execution_count": null,
      "outputs": [
        {
          "output_type": "execute_result",
          "data": {
            "text/plain": [
              "                                               title  \\\n",
              "0   Donald Trump Sends Out Embarrassing New Year’...   \n",
              "1   Drunk Bragging Trump Staffer Started Russian ...   \n",
              "2   Sheriff David Clarke Becomes An Internet Joke...   \n",
              "3   Trump Is So Obsessed He Even Has Obama’s Name...   \n",
              "4   Pope Francis Just Called Out Donald Trump Dur...   \n",
              "\n",
              "                                                text subject  \\\n",
              "0  Donald Trump just couldn t wish all Americans ...    News   \n",
              "1  House Intelligence Committee Chairman Devin Nu...    News   \n",
              "2  On Friday, it was revealed that former Milwauk...    News   \n",
              "3  On Christmas day, Donald Trump announced that ...    News   \n",
              "4  Pope Francis used his annual Christmas Day mes...    News   \n",
              "\n",
              "                date  \n",
              "0  December 31, 2017  \n",
              "1  December 31, 2017  \n",
              "2  December 30, 2017  \n",
              "3  December 29, 2017  \n",
              "4  December 25, 2017  "
            ],
            "text/html": [
              "\n",
              "  <div id=\"df-35cdabc5-150d-4ec5-bb19-ac224c53deca\">\n",
              "    <div class=\"colab-df-container\">\n",
              "      <div>\n",
              "<style scoped>\n",
              "    .dataframe tbody tr th:only-of-type {\n",
              "        vertical-align: middle;\n",
              "    }\n",
              "\n",
              "    .dataframe tbody tr th {\n",
              "        vertical-align: top;\n",
              "    }\n",
              "\n",
              "    .dataframe thead th {\n",
              "        text-align: right;\n",
              "    }\n",
              "</style>\n",
              "<table border=\"1\" class=\"dataframe\">\n",
              "  <thead>\n",
              "    <tr style=\"text-align: right;\">\n",
              "      <th></th>\n",
              "      <th>title</th>\n",
              "      <th>text</th>\n",
              "      <th>subject</th>\n",
              "      <th>date</th>\n",
              "    </tr>\n",
              "  </thead>\n",
              "  <tbody>\n",
              "    <tr>\n",
              "      <th>0</th>\n",
              "      <td>Donald Trump Sends Out Embarrassing New Year’...</td>\n",
              "      <td>Donald Trump just couldn t wish all Americans ...</td>\n",
              "      <td>News</td>\n",
              "      <td>December 31, 2017</td>\n",
              "    </tr>\n",
              "    <tr>\n",
              "      <th>1</th>\n",
              "      <td>Drunk Bragging Trump Staffer Started Russian ...</td>\n",
              "      <td>House Intelligence Committee Chairman Devin Nu...</td>\n",
              "      <td>News</td>\n",
              "      <td>December 31, 2017</td>\n",
              "    </tr>\n",
              "    <tr>\n",
              "      <th>2</th>\n",
              "      <td>Sheriff David Clarke Becomes An Internet Joke...</td>\n",
              "      <td>On Friday, it was revealed that former Milwauk...</td>\n",
              "      <td>News</td>\n",
              "      <td>December 30, 2017</td>\n",
              "    </tr>\n",
              "    <tr>\n",
              "      <th>3</th>\n",
              "      <td>Trump Is So Obsessed He Even Has Obama’s Name...</td>\n",
              "      <td>On Christmas day, Donald Trump announced that ...</td>\n",
              "      <td>News</td>\n",
              "      <td>December 29, 2017</td>\n",
              "    </tr>\n",
              "    <tr>\n",
              "      <th>4</th>\n",
              "      <td>Pope Francis Just Called Out Donald Trump Dur...</td>\n",
              "      <td>Pope Francis used his annual Christmas Day mes...</td>\n",
              "      <td>News</td>\n",
              "      <td>December 25, 2017</td>\n",
              "    </tr>\n",
              "  </tbody>\n",
              "</table>\n",
              "</div>\n",
              "      <button class=\"colab-df-convert\" onclick=\"convertToInteractive('df-35cdabc5-150d-4ec5-bb19-ac224c53deca')\"\n",
              "              title=\"Convert this dataframe to an interactive table.\"\n",
              "              style=\"display:none;\">\n",
              "        \n",
              "  <svg xmlns=\"http://www.w3.org/2000/svg\" height=\"24px\"viewBox=\"0 0 24 24\"\n",
              "       width=\"24px\">\n",
              "    <path d=\"M0 0h24v24H0V0z\" fill=\"none\"/>\n",
              "    <path d=\"M18.56 5.44l.94 2.06.94-2.06 2.06-.94-2.06-.94-.94-2.06-.94 2.06-2.06.94zm-11 1L8.5 8.5l.94-2.06 2.06-.94-2.06-.94L8.5 2.5l-.94 2.06-2.06.94zm10 10l.94 2.06.94-2.06 2.06-.94-2.06-.94-.94-2.06-.94 2.06-2.06.94z\"/><path d=\"M17.41 7.96l-1.37-1.37c-.4-.4-.92-.59-1.43-.59-.52 0-1.04.2-1.43.59L10.3 9.45l-7.72 7.72c-.78.78-.78 2.05 0 2.83L4 21.41c.39.39.9.59 1.41.59.51 0 1.02-.2 1.41-.59l7.78-7.78 2.81-2.81c.8-.78.8-2.07 0-2.86zM5.41 20L4 18.59l7.72-7.72 1.47 1.35L5.41 20z\"/>\n",
              "  </svg>\n",
              "      </button>\n",
              "      \n",
              "  <style>\n",
              "    .colab-df-container {\n",
              "      display:flex;\n",
              "      flex-wrap:wrap;\n",
              "      gap: 12px;\n",
              "    }\n",
              "\n",
              "    .colab-df-convert {\n",
              "      background-color: #E8F0FE;\n",
              "      border: none;\n",
              "      border-radius: 50%;\n",
              "      cursor: pointer;\n",
              "      display: none;\n",
              "      fill: #1967D2;\n",
              "      height: 32px;\n",
              "      padding: 0 0 0 0;\n",
              "      width: 32px;\n",
              "    }\n",
              "\n",
              "    .colab-df-convert:hover {\n",
              "      background-color: #E2EBFA;\n",
              "      box-shadow: 0px 1px 2px rgba(60, 64, 67, 0.3), 0px 1px 3px 1px rgba(60, 64, 67, 0.15);\n",
              "      fill: #174EA6;\n",
              "    }\n",
              "\n",
              "    [theme=dark] .colab-df-convert {\n",
              "      background-color: #3B4455;\n",
              "      fill: #D2E3FC;\n",
              "    }\n",
              "\n",
              "    [theme=dark] .colab-df-convert:hover {\n",
              "      background-color: #434B5C;\n",
              "      box-shadow: 0px 1px 3px 1px rgba(0, 0, 0, 0.15);\n",
              "      filter: drop-shadow(0px 1px 2px rgba(0, 0, 0, 0.3));\n",
              "      fill: #FFFFFF;\n",
              "    }\n",
              "  </style>\n",
              "\n",
              "      <script>\n",
              "        const buttonEl =\n",
              "          document.querySelector('#df-35cdabc5-150d-4ec5-bb19-ac224c53deca button.colab-df-convert');\n",
              "        buttonEl.style.display =\n",
              "          google.colab.kernel.accessAllowed ? 'block' : 'none';\n",
              "\n",
              "        async function convertToInteractive(key) {\n",
              "          const element = document.querySelector('#df-35cdabc5-150d-4ec5-bb19-ac224c53deca');\n",
              "          const dataTable =\n",
              "            await google.colab.kernel.invokeFunction('convertToInteractive',\n",
              "                                                     [key], {});\n",
              "          if (!dataTable) return;\n",
              "\n",
              "          const docLinkHtml = 'Like what you see? Visit the ' +\n",
              "            '<a target=\"_blank\" href=https://colab.research.google.com/notebooks/data_table.ipynb>data table notebook</a>'\n",
              "            + ' to learn more about interactive tables.';\n",
              "          element.innerHTML = '';\n",
              "          dataTable['output_type'] = 'display_data';\n",
              "          await google.colab.output.renderOutput(dataTable, element);\n",
              "          const docLink = document.createElement('div');\n",
              "          docLink.innerHTML = docLinkHtml;\n",
              "          element.appendChild(docLink);\n",
              "        }\n",
              "      </script>\n",
              "    </div>\n",
              "  </div>\n",
              "  "
            ]
          },
          "metadata": {},
          "execution_count": 3
        }
      ]
    },
    {
      "cell_type": "code",
      "source": [
        "real_df.head()"
      ],
      "metadata": {
        "colab": {
          "base_uri": "https://localhost:8080/",
          "height": 337
        },
        "id": "OyRQ85zFpku5",
        "outputId": "8ff5ceed-157d-412f-dc4e-71b294d3ae9e"
      },
      "execution_count": null,
      "outputs": [
        {
          "output_type": "execute_result",
          "data": {
            "text/plain": [
              "                                               title  \\\n",
              "0  As U.S. budget fight looms, Republicans flip t...   \n",
              "1  U.S. military to accept transgender recruits o...   \n",
              "2  Senior U.S. Republican senator: 'Let Mr. Muell...   \n",
              "3  FBI Russia probe helped by Australian diplomat...   \n",
              "4  Trump wants Postal Service to charge 'much mor...   \n",
              "\n",
              "                                                text       subject  \\\n",
              "0  WASHINGTON (Reuters) - The head of a conservat...  politicsNews   \n",
              "1  WASHINGTON (Reuters) - Transgender people will...  politicsNews   \n",
              "2  WASHINGTON (Reuters) - The special counsel inv...  politicsNews   \n",
              "3  WASHINGTON (Reuters) - Trump campaign adviser ...  politicsNews   \n",
              "4  SEATTLE/WASHINGTON (Reuters) - President Donal...  politicsNews   \n",
              "\n",
              "                 date  \n",
              "0  December 31, 2017   \n",
              "1  December 29, 2017   \n",
              "2  December 31, 2017   \n",
              "3  December 30, 2017   \n",
              "4  December 29, 2017   "
            ],
            "text/html": [
              "\n",
              "  <div id=\"df-98c10858-ad62-449a-a626-ab9bce0fcba3\">\n",
              "    <div class=\"colab-df-container\">\n",
              "      <div>\n",
              "<style scoped>\n",
              "    .dataframe tbody tr th:only-of-type {\n",
              "        vertical-align: middle;\n",
              "    }\n",
              "\n",
              "    .dataframe tbody tr th {\n",
              "        vertical-align: top;\n",
              "    }\n",
              "\n",
              "    .dataframe thead th {\n",
              "        text-align: right;\n",
              "    }\n",
              "</style>\n",
              "<table border=\"1\" class=\"dataframe\">\n",
              "  <thead>\n",
              "    <tr style=\"text-align: right;\">\n",
              "      <th></th>\n",
              "      <th>title</th>\n",
              "      <th>text</th>\n",
              "      <th>subject</th>\n",
              "      <th>date</th>\n",
              "    </tr>\n",
              "  </thead>\n",
              "  <tbody>\n",
              "    <tr>\n",
              "      <th>0</th>\n",
              "      <td>As U.S. budget fight looms, Republicans flip t...</td>\n",
              "      <td>WASHINGTON (Reuters) - The head of a conservat...</td>\n",
              "      <td>politicsNews</td>\n",
              "      <td>December 31, 2017</td>\n",
              "    </tr>\n",
              "    <tr>\n",
              "      <th>1</th>\n",
              "      <td>U.S. military to accept transgender recruits o...</td>\n",
              "      <td>WASHINGTON (Reuters) - Transgender people will...</td>\n",
              "      <td>politicsNews</td>\n",
              "      <td>December 29, 2017</td>\n",
              "    </tr>\n",
              "    <tr>\n",
              "      <th>2</th>\n",
              "      <td>Senior U.S. Republican senator: 'Let Mr. Muell...</td>\n",
              "      <td>WASHINGTON (Reuters) - The special counsel inv...</td>\n",
              "      <td>politicsNews</td>\n",
              "      <td>December 31, 2017</td>\n",
              "    </tr>\n",
              "    <tr>\n",
              "      <th>3</th>\n",
              "      <td>FBI Russia probe helped by Australian diplomat...</td>\n",
              "      <td>WASHINGTON (Reuters) - Trump campaign adviser ...</td>\n",
              "      <td>politicsNews</td>\n",
              "      <td>December 30, 2017</td>\n",
              "    </tr>\n",
              "    <tr>\n",
              "      <th>4</th>\n",
              "      <td>Trump wants Postal Service to charge 'much mor...</td>\n",
              "      <td>SEATTLE/WASHINGTON (Reuters) - President Donal...</td>\n",
              "      <td>politicsNews</td>\n",
              "      <td>December 29, 2017</td>\n",
              "    </tr>\n",
              "  </tbody>\n",
              "</table>\n",
              "</div>\n",
              "      <button class=\"colab-df-convert\" onclick=\"convertToInteractive('df-98c10858-ad62-449a-a626-ab9bce0fcba3')\"\n",
              "              title=\"Convert this dataframe to an interactive table.\"\n",
              "              style=\"display:none;\">\n",
              "        \n",
              "  <svg xmlns=\"http://www.w3.org/2000/svg\" height=\"24px\"viewBox=\"0 0 24 24\"\n",
              "       width=\"24px\">\n",
              "    <path d=\"M0 0h24v24H0V0z\" fill=\"none\"/>\n",
              "    <path d=\"M18.56 5.44l.94 2.06.94-2.06 2.06-.94-2.06-.94-.94-2.06-.94 2.06-2.06.94zm-11 1L8.5 8.5l.94-2.06 2.06-.94-2.06-.94L8.5 2.5l-.94 2.06-2.06.94zm10 10l.94 2.06.94-2.06 2.06-.94-2.06-.94-.94-2.06-.94 2.06-2.06.94z\"/><path d=\"M17.41 7.96l-1.37-1.37c-.4-.4-.92-.59-1.43-.59-.52 0-1.04.2-1.43.59L10.3 9.45l-7.72 7.72c-.78.78-.78 2.05 0 2.83L4 21.41c.39.39.9.59 1.41.59.51 0 1.02-.2 1.41-.59l7.78-7.78 2.81-2.81c.8-.78.8-2.07 0-2.86zM5.41 20L4 18.59l7.72-7.72 1.47 1.35L5.41 20z\"/>\n",
              "  </svg>\n",
              "      </button>\n",
              "      \n",
              "  <style>\n",
              "    .colab-df-container {\n",
              "      display:flex;\n",
              "      flex-wrap:wrap;\n",
              "      gap: 12px;\n",
              "    }\n",
              "\n",
              "    .colab-df-convert {\n",
              "      background-color: #E8F0FE;\n",
              "      border: none;\n",
              "      border-radius: 50%;\n",
              "      cursor: pointer;\n",
              "      display: none;\n",
              "      fill: #1967D2;\n",
              "      height: 32px;\n",
              "      padding: 0 0 0 0;\n",
              "      width: 32px;\n",
              "    }\n",
              "\n",
              "    .colab-df-convert:hover {\n",
              "      background-color: #E2EBFA;\n",
              "      box-shadow: 0px 1px 2px rgba(60, 64, 67, 0.3), 0px 1px 3px 1px rgba(60, 64, 67, 0.15);\n",
              "      fill: #174EA6;\n",
              "    }\n",
              "\n",
              "    [theme=dark] .colab-df-convert {\n",
              "      background-color: #3B4455;\n",
              "      fill: #D2E3FC;\n",
              "    }\n",
              "\n",
              "    [theme=dark] .colab-df-convert:hover {\n",
              "      background-color: #434B5C;\n",
              "      box-shadow: 0px 1px 3px 1px rgba(0, 0, 0, 0.15);\n",
              "      filter: drop-shadow(0px 1px 2px rgba(0, 0, 0, 0.3));\n",
              "      fill: #FFFFFF;\n",
              "    }\n",
              "  </style>\n",
              "\n",
              "      <script>\n",
              "        const buttonEl =\n",
              "          document.querySelector('#df-98c10858-ad62-449a-a626-ab9bce0fcba3 button.colab-df-convert');\n",
              "        buttonEl.style.display =\n",
              "          google.colab.kernel.accessAllowed ? 'block' : 'none';\n",
              "\n",
              "        async function convertToInteractive(key) {\n",
              "          const element = document.querySelector('#df-98c10858-ad62-449a-a626-ab9bce0fcba3');\n",
              "          const dataTable =\n",
              "            await google.colab.kernel.invokeFunction('convertToInteractive',\n",
              "                                                     [key], {});\n",
              "          if (!dataTable) return;\n",
              "\n",
              "          const docLinkHtml = 'Like what you see? Visit the ' +\n",
              "            '<a target=\"_blank\" href=https://colab.research.google.com/notebooks/data_table.ipynb>data table notebook</a>'\n",
              "            + ' to learn more about interactive tables.';\n",
              "          element.innerHTML = '';\n",
              "          dataTable['output_type'] = 'display_data';\n",
              "          await google.colab.output.renderOutput(dataTable, element);\n",
              "          const docLink = document.createElement('div');\n",
              "          docLink.innerHTML = docLinkHtml;\n",
              "          element.appendChild(docLink);\n",
              "        }\n",
              "      </script>\n",
              "    </div>\n",
              "  </div>\n",
              "  "
            ]
          },
          "metadata": {},
          "execution_count": 4
        }
      ]
    },
    {
      "cell_type": "markdown",
      "source": [
        "Checking the loaded data. We use info() and duplicated() to check for NaN and duplicate rows."
      ],
      "metadata": {
        "id": "47eGtK7uqvPU"
      }
    },
    {
      "cell_type": "code",
      "source": [
        "fake_df.info()"
      ],
      "metadata": {
        "colab": {
          "base_uri": "https://localhost:8080/"
        },
        "id": "OyySbRw3sY66",
        "outputId": "02ce9002-4237-4943-9333-8c5dee87f910"
      },
      "execution_count": null,
      "outputs": [
        {
          "output_type": "stream",
          "name": "stdout",
          "text": [
            "<class 'pandas.core.frame.DataFrame'>\n",
            "RangeIndex: 23481 entries, 0 to 23480\n",
            "Data columns (total 4 columns):\n",
            " #   Column   Non-Null Count  Dtype \n",
            "---  ------   --------------  ----- \n",
            " 0   title    23481 non-null  object\n",
            " 1   text     23481 non-null  object\n",
            " 2   subject  23481 non-null  object\n",
            " 3   date     23481 non-null  object\n",
            "dtypes: object(4)\n",
            "memory usage: 733.9+ KB\n"
          ]
        }
      ]
    },
    {
      "cell_type": "code",
      "source": [
        "len(fake_df[fake_df.duplicated()==True])"
      ],
      "metadata": {
        "colab": {
          "base_uri": "https://localhost:8080/"
        },
        "id": "vARdh3aBs9Sn",
        "outputId": "f4f494b2-c41c-427f-ca42-0d6af3da5320"
      },
      "execution_count": null,
      "outputs": [
        {
          "output_type": "execute_result",
          "data": {
            "text/plain": [
              "3"
            ]
          },
          "metadata": {},
          "execution_count": 5
        }
      ]
    },
    {
      "cell_type": "code",
      "source": [
        "real_df.info()"
      ],
      "metadata": {
        "colab": {
          "base_uri": "https://localhost:8080/"
        },
        "id": "i7NrAu1atVYQ",
        "outputId": "0ecf860b-829d-40e3-ece2-d6153b6900b2"
      },
      "execution_count": null,
      "outputs": [
        {
          "output_type": "stream",
          "name": "stdout",
          "text": [
            "<class 'pandas.core.frame.DataFrame'>\n",
            "RangeIndex: 21417 entries, 0 to 21416\n",
            "Data columns (total 4 columns):\n",
            " #   Column   Non-Null Count  Dtype \n",
            "---  ------   --------------  ----- \n",
            " 0   title    21417 non-null  object\n",
            " 1   text     21417 non-null  object\n",
            " 2   subject  21417 non-null  object\n",
            " 3   date     21417 non-null  object\n",
            "dtypes: object(4)\n",
            "memory usage: 669.4+ KB\n"
          ]
        }
      ]
    },
    {
      "cell_type": "code",
      "source": [
        "len(real_df[real_df.duplicated()==True])"
      ],
      "metadata": {
        "colab": {
          "base_uri": "https://localhost:8080/"
        },
        "id": "0lesHblstZjh",
        "outputId": "fa529c37-4f8a-4b1d-ae8b-b80051b530f5"
      },
      "execution_count": null,
      "outputs": [
        {
          "output_type": "execute_result",
          "data": {
            "text/plain": [
              "206"
            ]
          },
          "metadata": {},
          "execution_count": 7
        }
      ]
    },
    {
      "cell_type": "markdown",
      "source": [
        "No entries contain NaN but duplicated entries found. Dropping the duplicated rows in each table."
      ],
      "metadata": {
        "id": "oRAiY-YLul2D"
      }
    },
    {
      "cell_type": "code",
      "source": [
        "fake_df = fake_df.drop_duplicates()\n",
        "real_df = real_df.drop_duplicates()\n",
        "len(fake_df),len(real_df)"
      ],
      "metadata": {
        "colab": {
          "base_uri": "https://localhost:8080/"
        },
        "id": "RhahlGyivncm",
        "outputId": "a0bc549e-3706-4ef7-bb0f-0a5005951c0b"
      },
      "execution_count": null,
      "outputs": [
        {
          "output_type": "execute_result",
          "data": {
            "text/plain": [
              "(23478, 21211)"
            ]
          },
          "metadata": {},
          "execution_count": 8
        }
      ]
    },
    {
      "cell_type": "markdown",
      "source": [
        "#3.Preprocessing Data"
      ],
      "metadata": {
        "id": "Ozj0SlmJwYUH"
      }
    },
    {
      "cell_type": "markdown",
      "source": [
        "Now, we have successfully loaded our datasets. The next step is to preprocess the datasets we loaded. Firstly, we want to add a column called 'isFake' to indicate that whether the news is fake or not (fake is 1 and real is 0). Since we think the length of the data is somewhat correlated to their truthfulness, we also choose to add a column 'text_length' to indicate the length of the text of the news. We then combine these two datasets into a new dataset contains both real news and fake news, which has 44689 instances."
      ],
      "metadata": {
        "id": "opq0k4-nwhwp"
      }
    },
    {
      "cell_type": "code",
      "source": [
        "# add a new column of text length\n",
        "fake_df['text_length'] = fake_df['text'].str.len()\n",
        "real_df['text_length'] = real_df['text'].str.len()\n",
        "\n",
        "# add column 'isFake'\n",
        "fake_df['isFake'] = 1\n",
        "real_df['isFake'] = 0\n",
        "\n",
        "# concate the two datasets into a new dataset contains all news\n",
        "news_df = pd.concat([real_df, fake_df])\n",
        "news_df.info()\n",
        "\n"
      ],
      "metadata": {
        "colab": {
          "base_uri": "https://localhost:8080/"
        },
        "id": "T44vg7UowhWf",
        "outputId": "21041c01-884e-4004-b90f-6db0d8de6484"
      },
      "execution_count": null,
      "outputs": [
        {
          "output_type": "stream",
          "name": "stdout",
          "text": [
            "<class 'pandas.core.frame.DataFrame'>\n",
            "Int64Index: 44689 entries, 0 to 23480\n",
            "Data columns (total 6 columns):\n",
            " #   Column       Non-Null Count  Dtype \n",
            "---  ------       --------------  ----- \n",
            " 0   title        44689 non-null  object\n",
            " 1   text         44689 non-null  object\n",
            " 2   subject      44689 non-null  object\n",
            " 3   date         44689 non-null  object\n",
            " 4   text_length  44689 non-null  int64 \n",
            " 5   isFake       44689 non-null  int64 \n",
            "dtypes: int64(2), object(4)\n",
            "memory usage: 2.4+ MB\n"
          ]
        }
      ]
    },
    {
      "cell_type": "markdown",
      "source": [
        "In this part of the project, we want to clean our data. Here are the steps we choose to clean and exact our data：\n",
        "\n",
        "1. Remove external links which including tagging people(e.g. @musk) and parts of url(contains \"http://\", \"@\",\".com\", etc). \n",
        "\n",
        "2. Remove the names of news agencies (e.g. \"The Washington Post\", \"The New York Times\") and other indentiy indicators. (We only found \"Reuters\" inside the dataset, so we only removed Reuters)\n",
        "\n",
        "3. Discard the contents containing useless information such as stop words, punctions and other non-alphabetic characters. \n",
        " \n",
        "4. Use stemmer to identify the words which are in different format but with the same meaning (e.g. \"dogs\" and \"dog\", \"play\" and \"played\"). "
      ],
      "metadata": {
        "id": "8TcmQUHF4zrD"
      }
    },
    {
      "cell_type": "code",
      "source": [
        "# get the stem and stop words\n",
        "stop_words = stopwords.words('english')\n",
        "stem = PorterStemmer()\n",
        "# define the cleaning function\n",
        "def text_cleaner(text):\n",
        "  # exact words without external links  \n",
        "  text = re.sub(r'https?://\\S+|www\\.\\S+', '', text)\n",
        "  text = re.sub(r'@[^s]*','', text)\n",
        "  # some news contains \"(Reuters)\"  \n",
        "  if \"(Reuters)\" in text:\n",
        "    text = text.split(\"(Reuters)\")[1]\n",
        "  # exact words without \"/\", \"\\\" and stop words\n",
        "  words = [w for w in text.split() if \"/\" not in w and \"\\\\\" not in w and w not in stop_words]\n",
        "  first_cleaned_text = \" \".join(words)\n",
        "  # remove the words with no information such as punctuation and digit\n",
        "  cleaned_words = [w for w in first_cleaned_text if w not in string.punctuation or not w.isdigit()]\n",
        "  second_cleaned_text = \"\".join(cleaned_words)\n",
        "  second_cleaned_text = re.sub('[^a-zA-z\\s]', '', second_cleaned_text).lower()\n",
        "  # identify the words which are in different format but actually they are the same\n",
        "  stem_words = [stem.stem(w) for w in second_cleaned_text.split()]\n",
        "  final_text = \" \".join(stem_words)\n",
        "  return final_text\n",
        "\n",
        "# test whether the function could acheive our requirements\n",
        "text_cleaner(fake_df['text'][0])\n",
        "\n"
      ],
      "metadata": {
        "colab": {
          "base_uri": "https://localhost:8080/",
          "height": 140
        },
        "id": "YJdMMlxQ0sS3",
        "outputId": "fb2a6ea9-2240-4aaf-86c5-859a534f747c"
      },
      "execution_count": null,
      "outputs": [
        {
          "output_type": "execute_result",
          "data": {
            "text/plain": [
              "'donald trump wish american happi new year leav that instead give shout enemi hater dishonest fake news media the former realiti show star one job it as countri rapidli grow stronger smarter i want wish friend support enemi hater even dishonest fake news media happi healthi new year presid angri pant tweet great year america as countri rapidli grow stronger smarter i want wish friend support enemi hater even dishonest fake news media happi healthi new year great year america donald j trump s tweet went welll expectwhat kind presid send new year greet like despic petti infantil gibberish onli trump hi lack decenc even allow rise gutter long enough wish american citizen happi new year bishop talbert swan s calvin stowel decemb your impeach would make great year america i also accept regain control congress miranda yaver self talk when includ mani peopl hate wonder whi hate me alan sandov se word hater new year wish marlen st say happi new year koren pollitt s trump new year eve tweet happi new year all includ mani enemi fought lost badli know do love donald j trump s noth new trump he yearstrump direct messag enemi hater new year s easter thanksgiv anniversari daniel dale s holiday tweet clearli presidentialhow long work hallmark becom presid steven goodin s alway like differ last year filter break down roy schulz se term hater wendi stle decemb he fuck year old who know s hole think would chang got power wrong yearold men chang year olderphoto andrew imag'"
            ],
            "application/vnd.google.colaboratory.intrinsic+json": {
              "type": "string"
            }
          },
          "metadata": {},
          "execution_count": 10
        }
      ]
    },
    {
      "cell_type": "markdown",
      "source": [
        "We applied the data cleaning function to our dataset. Because of the long processing time, we saved the cleaned data into a new csv file. The new csv file is also in google drive link."
      ],
      "metadata": {
        "id": "_exhz7_feQ8s"
      }
    },
    {
      "cell_type": "code",
      "source": [
        "# don't modify this cell, it will take long time!\n",
        "# news_df['text'] = news_df['text'].apply(lambda x: text_cleaner(x))\n",
        "# pd.DataFrame.to_csv(news_df, \"cleaned_news.csv\", index=False)"
      ],
      "metadata": {
        "id": "lKgJQ09XfZdC"
      },
      "execution_count": null,
      "outputs": []
    },
    {
      "cell_type": "code",
      "source": [
        "cleaned_news_df = pd.read_csv('cleaned_news.csv')\n",
        "cleaned_news_df['text']=cleaned_news_df['text'].astype(str)\n",
        "cleaned_news_df.info()"
      ],
      "metadata": {
        "colab": {
          "base_uri": "https://localhost:8080/"
        },
        "id": "z2UdibshmMoa",
        "outputId": "fdc8158f-05f9-44c2-9588-63070dbe10e4"
      },
      "execution_count": null,
      "outputs": [
        {
          "output_type": "stream",
          "name": "stdout",
          "text": [
            "<class 'pandas.core.frame.DataFrame'>\n",
            "RangeIndex: 44689 entries, 0 to 44688\n",
            "Data columns (total 6 columns):\n",
            " #   Column       Non-Null Count  Dtype \n",
            "---  ------       --------------  ----- \n",
            " 0   title        44689 non-null  object\n",
            " 1   text         44689 non-null  object\n",
            " 2   subject      44689 non-null  object\n",
            " 3   date         44689 non-null  object\n",
            " 4   text_length  44689 non-null  int64 \n",
            " 5   isFake       44689 non-null  int64 \n",
            "dtypes: int64(2), object(4)\n",
            "memory usage: 2.0+ MB\n"
          ]
        }
      ]
    },
    {
      "cell_type": "markdown",
      "source": [
        "Checking the content of data..."
      ],
      "metadata": {
        "id": "6PW7p9MkrcDM"
      }
    },
    {
      "cell_type": "code",
      "source": [
        "cleaned_news_df['text'][0]"
      ],
      "metadata": {
        "id": "sFMUn0_srtll",
        "colab": {
          "base_uri": "https://localhost:8080/",
          "height": 140
        },
        "outputId": "e48e39a9-4820-4eb3-e9d4-38f418c23b8b"
      },
      "execution_count": null,
      "outputs": [
        {
          "output_type": "execute_result",
          "data": {
            "text/plain": [
              "'the head conserv republican faction us congress vote month huge expans nation debt pay tax cut call fiscal conserv sunday urg budget restraint in keep sharp pivot way among republican us repres mark meadow speak cb face nation drew hard line feder spend lawmak brace battl januari when return holiday wednesday lawmak begin tri pass feder budget fight like link issu immigr polici even novemb congression elect campaign approach republican seek keep control congress presid donald trump republican want big budget increas militari spend democrat also want proport increas nondefens discretionari spend program support educ scientif research infrastructur public health environment protect the trump administr alreadi will say were go increas nondefens discretionari spend percent meadow chairman small influenti hous freedom caucu said program now democrat say that enough need give govern pay rais percent for fiscal conserv i dont see rational is eventu run peopl money said meadow among republican vote late decemb parti debtfinanc tax overhaul expect balloon feder budget deficit add trillion year trillion nation debt it interest hear mark talk fiscal respons democrat us repres joseph crowley said cb crowley said republican tax bill would requir unit state borrow trillion paid futur gener financ tax cut corpor rich thi one least fiscal respons bill weve ever seen pass histori hous repres i think were go pay mani mani year come crowley said republican insist tax packag biggest us tax overhaul year boost economi job growth hous speaker paul ryan also support tax bill recent went meadow make clear radio interview welfar entitl reform parti often call it would top republican prioriti in republican parlanc entitl program mean food stamp hous assist medicar medicaid health insur elderli poor disabl well program creat washington assist needi democrat seiz ryan earli decemb remark say show republican would tri pay tax overhaul seek spend cut social program but goal hous republican may take back seat senat vote democrat need approv budget prevent govern shutdown democrat use leverag senat republican narrowli control defend discretionari nondefens program social spend tackl issu dreamer peopl brought illeg countri children trump septemb put march expir date defer action childhood arriv daca program protect young immigr deport provid work permit the presid said recent twitter messag want fund propos mexican border wall immigr law chang exchang agre help dreamer repres debbi dingel told cb favor link issu polici object wall fund we need daca clean said on wednesday trump aid meet congression leader discuss issu that follow weekend strategi session trump republican leader jan white hous said trump also schedul meet sunday florida republican governor rick scott want emerg aid the hous pass billion aid packag hurrican florida texa puerto rico wildfir california the packag far exceed billion request trump administr the senat yet vote aid'"
            ],
            "application/vnd.google.colaboratory.intrinsic+json": {
              "type": "string"
            }
          },
          "metadata": {},
          "execution_count": 14
        }
      ]
    },
    {
      "cell_type": "markdown",
      "source": [
        "Processing the new dataset."
      ],
      "metadata": {
        "id": "WaaQ0scWgeB6"
      }
    },
    {
      "cell_type": "code",
      "source": [
        "cleaned_real_df = cleaned_news_df[cleaned_news_df['isFake']==0]\n",
        "cleaned_fake_df = cleaned_news_df[cleaned_news_df['isFake']==1]"
      ],
      "metadata": {
        "id": "H2SQGdasgdtw"
      },
      "execution_count": null,
      "outputs": []
    },
    {
      "cell_type": "markdown",
      "source": [
        "#4. Exploratory Data Analysis(EDA)"
      ],
      "metadata": {
        "id": "H7TdIrM5vG17"
      }
    },
    {
      "cell_type": "markdown",
      "source": [
        "We have a total of 44689 instances of the news. 21211 of them are real news and 23478 of them are fake news. The following pie chart is a visualization of these data."
      ],
      "metadata": {
        "id": "Cexynyp2xsA4"
      }
    },
    {
      "cell_type": "code",
      "source": [
        "plt.subplots(figsize = (8,8))\n",
        "plt.title('The Ratio of Real News and Fake News')\n",
        "plt.pie([len(fake_df),len(real_df)],labels=['Fake News','Real News'])\n",
        "plt.show()"
      ],
      "metadata": {
        "id": "X2TcwPARzO0W",
        "colab": {
          "base_uri": "https://localhost:8080/",
          "height": 482
        },
        "outputId": "3f9136ca-ada1-4c78-e1e9-24ad098d1d93"
      },
      "execution_count": null,
      "outputs": [
        {
          "output_type": "display_data",
          "data": {
            "text/plain": [
              "<Figure size 576x576 with 1 Axes>"
            ],
            "image/png": "[encoded data removed]"
          },
          "metadata": {}
        }
      ]
    },
    {
      "cell_type": "markdown",
      "source": [
        "Exploring the distribution of the text length to see if there is any difference between real news and fake news in text length."
      ],
      "metadata": {
        "id": "LXie4irL1M_j"
      }
    },
    {
      "cell_type": "code",
      "source": [
        "plt.subplots(figsize=(5,5))\n",
        "plt.title('Fake News Text Length Distribution')\n",
        "sns.distplot(fake_df['text_length'])\n",
        "plt.show()\n"
      ],
      "metadata": {
        "id": "6oDY671r94dT",
        "colab": {
          "base_uri": "https://localhost:8080/",
          "height": 406
        },
        "outputId": "cadd50aa-39e3-4469-da89-82aba01ac9bc"
      },
      "execution_count": null,
      "outputs": [
        {
          "output_type": "stream",
          "name": "stderr",
          "text": [
            "/usr/local/lib/python3.8/dist-packages/seaborn/distributions.py:2619: FutureWarning: `distplot` is a deprecated function and will be removed in a future version. Please adapt your code to use either `displot` (a figure-level function with similar flexibility) or `histplot` (an axes-level function for histograms).\n",
            "  warnings.warn(msg, FutureWarning)\n"
          ]
        },
        {
          "output_type": "display_data",
          "data": {
            "text/plain": [
              "<Figure size 360x360 with 1 Axes>"
            ],
            "image/png": "[encoded data removed]"
          },
          "metadata": {
            "needs_background": "light"
          }
        }
      ]
    },
    {
      "cell_type": "code",
      "source": [
        "plt.subplots(figsize=(5,5))\n",
        "plt.title('Real News Text Length Distribution')\n",
        "sns.distplot(real_df['text_length'])\n",
        "plt.show()"
      ],
      "metadata": {
        "id": "BtxCpinWB1T3",
        "colab": {
          "base_uri": "https://localhost:8080/",
          "height": 406
        },
        "outputId": "e611c0c6-571b-4cdc-fa0d-4179a0cb9b71"
      },
      "execution_count": null,
      "outputs": [
        {
          "output_type": "stream",
          "name": "stderr",
          "text": [
            "/usr/local/lib/python3.8/dist-packages/seaborn/distributions.py:2619: FutureWarning: `distplot` is a deprecated function and will be removed in a future version. Please adapt your code to use either `displot` (a figure-level function with similar flexibility) or `histplot` (an axes-level function for histograms).\n",
            "  warnings.warn(msg, FutureWarning)\n"
          ]
        },
        {
          "output_type": "display_data",
          "data": {
            "text/plain": [
              "<Figure size 360x360 with 1 Axes>"
            ],
            "image/png": "[encoded data removed]"
          },
          "metadata": {
            "needs_background": "light"
          }
        }
      ]
    },
    {
      "cell_type": "markdown",
      "source": [
        "The distribition of the text length of the Fake News and Real News are similar but with ceartain differences. Real news have two peaks in the text length distributions while fake news only have one; **however, we do not consider this to be a key feature that could differenciate fake news from real news.**\n",
        "\n"
      ],
      "metadata": {
        "id": "Qh9U5sxeHLRv"
      }
    },
    {
      "cell_type": "code",
      "source": [],
      "metadata": {
        "id": "B3iEYwTFlfbX"
      },
      "execution_count": null,
      "outputs": []
    },
    {
      "cell_type": "markdown",
      "source": [
        "Exploring the subjects of the news."
      ],
      "metadata": {
        "id": "yLHQpTDgk_jO"
      }
    },
    {
      "cell_type": "code",
      "source": [
        "fake_sub_num = fake_df.groupby(by='subject').count().reset_index()[['subject','text']].rename(columns={'text':'news_number'})\n",
        "fake_sub_num"
      ],
      "metadata": {
        "id": "91D96s3tEdU3",
        "colab": {
          "base_uri": "https://localhost:8080/",
          "height": 238
        },
        "outputId": "ac82d749-1bb2-49e5-bde5-ef8fc311996e"
      },
      "execution_count": null,
      "outputs": [
        {
          "output_type": "execute_result",
          "data": {
            "text/plain": [
              "           subject  news_number\n",
              "0  Government News         1570\n",
              "1      Middle-east          778\n",
              "2             News         9050\n",
              "3          US_News          783\n",
              "4        left-news         4459\n",
              "5         politics         6838"
            ],
            "text/html": [
              "\n",
              "  <div id=\"df-49971d3e-33b7-4026-86a6-59f454cb806a\">\n",
              "    <div class=\"colab-df-container\">\n",
              "      <div>\n",
              "<style scoped>\n",
              "    .dataframe tbody tr th:only-of-type {\n",
              "        vertical-align: middle;\n",
              "    }\n",
              "\n",
              "    .dataframe tbody tr th {\n",
              "        vertical-align: top;\n",
              "    }\n",
              "\n",
              "    .dataframe thead th {\n",
              "        text-align: right;\n",
              "    }\n",
              "</style>\n",
              "<table border=\"1\" class=\"dataframe\">\n",
              "  <thead>\n",
              "    <tr style=\"text-align: right;\">\n",
              "      <th></th>\n",
              "      <th>subject</th>\n",
              "      <th>news_number</th>\n",
              "    </tr>\n",
              "  </thead>\n",
              "  <tbody>\n",
              "    <tr>\n",
              "      <th>0</th>\n",
              "      <td>Government News</td>\n",
              "      <td>1570</td>\n",
              "    </tr>\n",
              "    <tr>\n",
              "      <th>1</th>\n",
              "      <td>Middle-east</td>\n",
              "      <td>778</td>\n",
              "    </tr>\n",
              "    <tr>\n",
              "      <th>2</th>\n",
              "      <td>News</td>\n",
              "      <td>9050</td>\n",
              "    </tr>\n",
              "    <tr>\n",
              "      <th>3</th>\n",
              "      <td>US_News</td>\n",
              "      <td>783</td>\n",
              "    </tr>\n",
              "    <tr>\n",
              "      <th>4</th>\n",
              "      <td>left-news</td>\n",
              "      <td>4459</td>\n",
              "    </tr>\n",
              "    <tr>\n",
              "      <th>5</th>\n",
              "      <td>politics</td>\n",
              "      <td>6838</td>\n",
              "    </tr>\n",
              "  </tbody>\n",
              "</table>\n",
              "</div>\n",
              "      <button class=\"colab-df-convert\" onclick=\"convertToInteractive('df-49971d3e-33b7-4026-86a6-59f454cb806a')\"\n",
              "              title=\"Convert this dataframe to an interactive table.\"\n",
              "              style=\"display:none;\">\n",
              "        \n",
              "  <svg xmlns=\"http://www.w3.org/2000/svg\" height=\"24px\"viewBox=\"0 0 24 24\"\n",
              "       width=\"24px\">\n",
              "    <path d=\"M0 0h24v24H0V0z\" fill=\"none\"/>\n",
              "    <path d=\"M18.56 5.44l.94 2.06.94-2.06 2.06-.94-2.06-.94-.94-2.06-.94 2.06-2.06.94zm-11 1L8.5 8.5l.94-2.06 2.06-.94-2.06-.94L8.5 2.5l-.94 2.06-2.06.94zm10 10l.94 2.06.94-2.06 2.06-.94-2.06-.94-.94-2.06-.94 2.06-2.06.94z\"/><path d=\"M17.41 7.96l-1.37-1.37c-.4-.4-.92-.59-1.43-.59-.52 0-1.04.2-1.43.59L10.3 9.45l-7.72 7.72c-.78.78-.78 2.05 0 2.83L4 21.41c.39.39.9.59 1.41.59.51 0 1.02-.2 1.41-.59l7.78-7.78 2.81-2.81c.8-.78.8-2.07 0-2.86zM5.41 20L4 18.59l7.72-7.72 1.47 1.35L5.41 20z\"/>\n",
              "  </svg>\n",
              "      </button>\n",
              "      \n",
              "  <style>\n",
              "    .colab-df-container {\n",
              "      display:flex;\n",
              "      flex-wrap:wrap;\n",
              "      gap: 12px;\n",
              "    }\n",
              "\n",
              "    .colab-df-convert {\n",
              "      background-color: #E8F0FE;\n",
              "      border: none;\n",
              "      border-radius: 50%;\n",
              "      cursor: pointer;\n",
              "      display: none;\n",
              "      fill: #1967D2;\n",
              "      height: 32px;\n",
              "      padding: 0 0 0 0;\n",
              "      width: 32px;\n",
              "    }\n",
              "\n",
              "    .colab-df-convert:hover {\n",
              "      background-color: #E2EBFA;\n",
              "      box-shadow: 0px 1px 2px rgba(60, 64, 67, 0.3), 0px 1px 3px 1px rgba(60, 64, 67, 0.15);\n",
              "      fill: #174EA6;\n",
              "    }\n",
              "\n",
              "    [theme=dark] .colab-df-convert {\n",
              "      background-color: #3B4455;\n",
              "      fill: #D2E3FC;\n",
              "    }\n",
              "\n",
              "    [theme=dark] .colab-df-convert:hover {\n",
              "      background-color: #434B5C;\n",
              "      box-shadow: 0px 1px 3px 1px rgba(0, 0, 0, 0.15);\n",
              "      filter: drop-shadow(0px 1px 2px rgba(0, 0, 0, 0.3));\n",
              "      fill: #FFFFFF;\n",
              "    }\n",
              "  </style>\n",
              "\n",
              "      <script>\n",
              "        const buttonEl =\n",
              "          document.querySelector('#df-49971d3e-33b7-4026-86a6-59f454cb806a button.colab-df-convert');\n",
              "        buttonEl.style.display =\n",
              "          google.colab.kernel.accessAllowed ? 'block' : 'none';\n",
              "\n",
              "        async function convertToInteractive(key) {\n",
              "          const element = document.querySelector('#df-49971d3e-33b7-4026-86a6-59f454cb806a');\n",
              "          const dataTable =\n",
              "            await google.colab.kernel.invokeFunction('convertToInteractive',\n",
              "                                                     [key], {});\n",
              "          if (!dataTable) return;\n",
              "\n",
              "          const docLinkHtml = 'Like what you see? Visit the ' +\n",
              "            '<a target=\"_blank\" href=https://colab.research.google.com/notebooks/data_table.ipynb>data table notebook</a>'\n",
              "            + ' to learn more about interactive tables.';\n",
              "          element.innerHTML = '';\n",
              "          dataTable['output_type'] = 'display_data';\n",
              "          await google.colab.output.renderOutput(dataTable, element);\n",
              "          const docLink = document.createElement('div');\n",
              "          docLink.innerHTML = docLinkHtml;\n",
              "          element.appendChild(docLink);\n",
              "        }\n",
              "      </script>\n",
              "    </div>\n",
              "  </div>\n",
              "  "
            ]
          },
          "metadata": {},
          "execution_count": 19
        }
      ]
    },
    {
      "cell_type": "code",
      "source": [
        "real_sub_num = real_df.groupby(by='subject').count().reset_index()[['subject','text']].rename(columns={'text':'news_number'})\n",
        "real_sub_num"
      ],
      "metadata": {
        "id": "BPffdueIHeH6",
        "colab": {
          "base_uri": "https://localhost:8080/",
          "height": 112
        },
        "outputId": "cd9d7330-7cca-4844-f7a1-918e3437724d"
      },
      "execution_count": null,
      "outputs": [
        {
          "output_type": "execute_result",
          "data": {
            "text/plain": [
              "        subject  news_number\n",
              "0  politicsNews        11220\n",
              "1     worldnews         9991"
            ],
            "text/html": [
              "\n",
              "  <div id=\"df-8fac66be-031b-4295-b7e2-92ec592aeb11\">\n",
              "    <div class=\"colab-df-container\">\n",
              "      <div>\n",
              "<style scoped>\n",
              "    .dataframe tbody tr th:only-of-type {\n",
              "        vertical-align: middle;\n",
              "    }\n",
              "\n",
              "    .dataframe tbody tr th {\n",
              "        vertical-align: top;\n",
              "    }\n",
              "\n",
              "    .dataframe thead th {\n",
              "        text-align: right;\n",
              "    }\n",
              "</style>\n",
              "<table border=\"1\" class=\"dataframe\">\n",
              "  <thead>\n",
              "    <tr style=\"text-align: right;\">\n",
              "      <th></th>\n",
              "      <th>subject</th>\n",
              "      <th>news_number</th>\n",
              "    </tr>\n",
              "  </thead>\n",
              "  <tbody>\n",
              "    <tr>\n",
              "      <th>0</th>\n",
              "      <td>politicsNews</td>\n",
              "      <td>11220</td>\n",
              "    </tr>\n",
              "    <tr>\n",
              "      <th>1</th>\n",
              "      <td>worldnews</td>\n",
              "      <td>9991</td>\n",
              "    </tr>\n",
              "  </tbody>\n",
              "</table>\n",
              "</div>\n",
              "      <button class=\"colab-df-convert\" onclick=\"convertToInteractive('df-8fac66be-031b-4295-b7e2-92ec592aeb11')\"\n",
              "              title=\"Convert this dataframe to an interactive table.\"\n",
              "              style=\"display:none;\">\n",
              "        \n",
              "  <svg xmlns=\"http://www.w3.org/2000/svg\" height=\"24px\"viewBox=\"0 0 24 24\"\n",
              "       width=\"24px\">\n",
              "    <path d=\"M0 0h24v24H0V0z\" fill=\"none\"/>\n",
              "    <path d=\"M18.56 5.44l.94 2.06.94-2.06 2.06-.94-2.06-.94-.94-2.06-.94 2.06-2.06.94zm-11 1L8.5 8.5l.94-2.06 2.06-.94-2.06-.94L8.5 2.5l-.94 2.06-2.06.94zm10 10l.94 2.06.94-2.06 2.06-.94-2.06-.94-.94-2.06-.94 2.06-2.06.94z\"/><path d=\"M17.41 7.96l-1.37-1.37c-.4-.4-.92-.59-1.43-.59-.52 0-1.04.2-1.43.59L10.3 9.45l-7.72 7.72c-.78.78-.78 2.05 0 2.83L4 21.41c.39.39.9.59 1.41.59.51 0 1.02-.2 1.41-.59l7.78-7.78 2.81-2.81c.8-.78.8-2.07 0-2.86zM5.41 20L4 18.59l7.72-7.72 1.47 1.35L5.41 20z\"/>\n",
              "  </svg>\n",
              "      </button>\n",
              "      \n",
              "  <style>\n",
              "    .colab-df-container {\n",
              "      display:flex;\n",
              "      flex-wrap:wrap;\n",
              "      gap: 12px;\n",
              "    }\n",
              "\n",
              "    .colab-df-convert {\n",
              "      background-color: #E8F0FE;\n",
              "      border: none;\n",
              "      border-radius: 50%;\n",
              "      cursor: pointer;\n",
              "      display: none;\n",
              "      fill: #1967D2;\n",
              "      height: 32px;\n",
              "      padding: 0 0 0 0;\n",
              "      width: 32px;\n",
              "    }\n",
              "\n",
              "    .colab-df-convert:hover {\n",
              "      background-color: #E2EBFA;\n",
              "      box-shadow: 0px 1px 2px rgba(60, 64, 67, 0.3), 0px 1px 3px 1px rgba(60, 64, 67, 0.15);\n",
              "      fill: #174EA6;\n",
              "    }\n",
              "\n",
              "    [theme=dark] .colab-df-convert {\n",
              "      background-color: #3B4455;\n",
              "      fill: #D2E3FC;\n",
              "    }\n",
              "\n",
              "    [theme=dark] .colab-df-convert:hover {\n",
              "      background-color: #434B5C;\n",
              "      box-shadow: 0px 1px 3px 1px rgba(0, 0, 0, 0.15);\n",
              "      filter: drop-shadow(0px 1px 2px rgba(0, 0, 0, 0.3));\n",
              "      fill: #FFFFFF;\n",
              "    }\n",
              "  </style>\n",
              "\n",
              "      <script>\n",
              "        const buttonEl =\n",
              "          document.querySelector('#df-8fac66be-031b-4295-b7e2-92ec592aeb11 button.colab-df-convert');\n",
              "        buttonEl.style.display =\n",
              "          google.colab.kernel.accessAllowed ? 'block' : 'none';\n",
              "\n",
              "        async function convertToInteractive(key) {\n",
              "          const element = document.querySelector('#df-8fac66be-031b-4295-b7e2-92ec592aeb11');\n",
              "          const dataTable =\n",
              "            await google.colab.kernel.invokeFunction('convertToInteractive',\n",
              "                                                     [key], {});\n",
              "          if (!dataTable) return;\n",
              "\n",
              "          const docLinkHtml = 'Like what you see? Visit the ' +\n",
              "            '<a target=\"_blank\" href=https://colab.research.google.com/notebooks/data_table.ipynb>data table notebook</a>'\n",
              "            + ' to learn more about interactive tables.';\n",
              "          element.innerHTML = '';\n",
              "          dataTable['output_type'] = 'display_data';\n",
              "          await google.colab.output.renderOutput(dataTable, element);\n",
              "          const docLink = document.createElement('div');\n",
              "          docLink.innerHTML = docLinkHtml;\n",
              "          element.appendChild(docLink);\n",
              "        }\n",
              "      </script>\n",
              "    </div>\n",
              "  </div>\n",
              "  "
            ]
          },
          "metadata": {},
          "execution_count": 20
        }
      ]
    },
    {
      "cell_type": "markdown",
      "source": [
        "Visualizing the different subjects of fake news and real news."
      ],
      "metadata": {
        "id": "zmzNS2wNHvGB"
      }
    },
    {
      "cell_type": "code",
      "source": [
        "plt.subplots(figsize=(8,4))\n",
        "plt.title('Fake News Subjects Count')\n",
        "sns.barplot(data=fake_sub_num, x='subject', y='news_number')\n",
        "plt.show()"
      ],
      "metadata": {
        "id": "P2yeK_wwIUCn",
        "colab": {
          "base_uri": "https://localhost:8080/",
          "height": 296
        },
        "outputId": "fdaced91-fcd7-4754-be5e-78d63adff7e3"
      },
      "execution_count": null,
      "outputs": [
        {
          "output_type": "display_data",
          "data": {
            "text/plain": [
              "<Figure size 576x288 with 1 Axes>"
            ],
            "image/png": "[encoded data removed]"
          },
          "metadata": {
            "needs_background": "light"
          }
        }
      ]
    },
    {
      "cell_type": "code",
      "source": [
        "plt.subplots(figsize=(5,5))\n",
        "plt.title('Real News Subjects Count')\n",
        "sns.barplot(data=real_sub_num, x='subject',y='news_number')\n",
        "plt.show()"
      ],
      "metadata": {
        "id": "_nxPfhYJIaux",
        "colab": {
          "base_uri": "https://localhost:8080/",
          "height": 350
        },
        "outputId": "015c7026-dcb7-42e1-9038-76f7bfe7323c"
      },
      "execution_count": null,
      "outputs": [
        {
          "output_type": "display_data",
          "data": {
            "text/plain": [
              "<Figure size 360x360 with 1 Axes>"
            ],
            "image/png": "[encoded data removed]"
          },
          "metadata": {
            "needs_background": "light"
          }
        }
      ]
    },
    {
      "cell_type": "markdown",
      "source": [
        "The subject counts of fake news and real news are diffenrent. Real news only have two kinds of subjects while fake news have six different subjects; **however, we do not consider this to be a key feature that could differenciate fake news from real news.**\n"
      ],
      "metadata": {
        "id": "SUSHxZ_GN4CJ"
      }
    },
    {
      "cell_type": "markdown",
      "source": [
        "Exploring the frequency of the words appearing in fake news and real news content. Since we are using the cleaned data, some words appear as word stems. The following are visualizations done with word cloud."
      ],
      "metadata": {
        "id": "EFn9NDzOliLG"
      }
    },
    {
      "cell_type": "code",
      "source": [
        "fake_words = set([w for w in cleaned_fake_df['text']])\n",
        "fake_text = ' '.join(fake_words)\n",
        "fake_cloud = WordCloud(max_words=200, width=1000, height=1000, background_color='white').generate(fake_text)\n",
        "\n",
        "plt.subplots(figsize=(10,5))\n",
        "plt.title('Fake News Word Cloud')\n",
        "plt.imshow(fake_cloud)\n",
        "plt.axis('off')\n",
        "plt.show()\n"
      ],
      "metadata": {
        "id": "Sp6b5ALvWTG8",
        "colab": {
          "base_uri": "https://localhost:8080/",
          "height": 319
        },
        "outputId": "87077a2f-af5e-4c3b-e850-e507fd348c68"
      },
      "execution_count": null,
      "outputs": [
        {
          "output_type": "display_data",
          "data": {
            "text/plain": [
              "<Figure size 720x360 with 1 Axes>"
            ],
            "image/png": "[encoded data removed]"
          },
          "metadata": {
            "needs_background": "light"
          }
        }
      ]
    },
    {
      "cell_type": "code",
      "source": [
        "real_words = set([w for w in cleaned_real_df['text']])\n",
        "real_text = ' '.join(real_words)\n",
        "real_cloud = WordCloud(max_words=200, width=1000, height=1000, background_color='white').generate(real_text)\n",
        "\n",
        "plt.subplots(figsize=(10,5))\n",
        "plt.title('Real News Word Cloud')\n",
        "plt.imshow(real_cloud)\n",
        "plt.axis('off')\n",
        "plt.show()"
      ],
      "metadata": {
        "id": "D0TQtPMiq2Ld",
        "colab": {
          "base_uri": "https://localhost:8080/",
          "height": 319
        },
        "outputId": "4ffe7c87-a9e3-49aa-f7b0-f20ea33ff742"
      },
      "execution_count": null,
      "outputs": [
        {
          "output_type": "display_data",
          "data": {
            "text/plain": [
              "<Figure size 720x360 with 1 Axes>"
            ],
            "image/png": "[encoded data removed]"
          },
          "metadata": {
            "needs_background": "light"
          }
        }
      ]
    },
    {
      "cell_type": "markdown",
      "source": [
        "According to the word cloud above, we notice that the words that appear in real news and fake news are somewhat similar. Most of them are related to US politics, especially president Donald Trump. \n",
        "\n",
        "Following are lists and bar plot of top words in fake news and real news."
      ],
      "metadata": {
        "id": "B0KyleAxWzFC"
      }
    },
    {
      "cell_type": "code",
      "source": [
        "processed_fake_text = WordCloud().process_text(fake_text)\n",
        "\n",
        "# we need to generate a dictionary which is word: frequency\n",
        "fake_frequency = {word: count for word, count in sorted(processed_fake_text.items(), key=lambda x:-x[1])}\n",
        "fake_frequency"
      ],
      "metadata": {
        "id": "vi5pyIOJZjRj",
        "colab": {
          "base_uri": "https://localhost:8080/"
        },
        "outputId": "91c173ca-4fcf-40fc-d070-666bbaedb3a7"
      },
      "execution_count": null,
      "outputs": [
        {
          "output_type": "execute_result",
          "data": {
            "text/plain": [
              "{'said': 13702,\n",
              " 'donald trump': 10888,\n",
              " 'one': 10174,\n",
              " 'say': 9772,\n",
              " 'trump': 7954,\n",
              " 'even': 7033,\n",
              " 'peopl': 6770,\n",
              " 'call': 6460,\n",
              " 'thi': 6420,\n",
              " 'go': 6212,\n",
              " 'imag via': 6028,\n",
              " 'think': 6012,\n",
              " 'know': 5566,\n",
              " 'time': 5332,\n",
              " 'republican': 5164,\n",
              " 'u': 4862,\n",
              " 'make': 4732,\n",
              " 'use': 4709,\n",
              " 'work': 4652,\n",
              " 'report': 4594,\n",
              " 'hillari clinton': 4579,\n",
              " 'white hous': 4521,\n",
              " 'ask': 4508,\n",
              " 'support': 4434,\n",
              " 'come': 4406,\n",
              " 'want': 4360,\n",
              " 'presid': 4359,\n",
              " 'way': 4322,\n",
              " 'state': 4260,\n",
              " 'unit state': 4229,\n",
              " 'countri': 4194,\n",
              " 'look': 4140,\n",
              " 'america': 4091,\n",
              " 'right': 3885,\n",
              " 'see': 3883,\n",
              " 'fact': 3858,\n",
              " 'show': 3794,\n",
              " 'includ': 3782,\n",
              " 'well': 3754,\n",
              " 'claim': 3674,\n",
              " 'take': 3514,\n",
              " 'need': 3459,\n",
              " 'person': 3400,\n",
              " 'mani': 3383,\n",
              " 'believ': 3355,\n",
              " 'told': 3310,\n",
              " 'may': 3258,\n",
              " 'made': 3252,\n",
              " 'point': 3242,\n",
              " 'actual': 3201,\n",
              " 'obama': 3158,\n",
              " 'democrat': 3153,\n",
              " 'presid obama': 3092,\n",
              " 'continu': 3073,\n",
              " 'american': 3048,\n",
              " 'man': 3019,\n",
              " 'mean': 3015,\n",
              " 'campaign': 2989,\n",
              " 'talk': 2957,\n",
              " 'attack': 2924,\n",
              " 'vote': 2868,\n",
              " 'still': 2848,\n",
              " 'thing': 2816,\n",
              " 'got': 2776,\n",
              " 'offic': 2719,\n",
              " 'new': 2706,\n",
              " 'now': 2700,\n",
              " 'back': 2698,\n",
              " 'give': 2668,\n",
              " 'new york': 2657,\n",
              " 'tell': 2656,\n",
              " 'much': 2650,\n",
              " 'elect': 2643,\n",
              " 'tweet': 2643,\n",
              " 'issu': 2638,\n",
              " 'help': 2636,\n",
              " 'conserv': 2596,\n",
              " 'govern': 2582,\n",
              " 'sinc': 2581,\n",
              " 'happen': 2567,\n",
              " 'case': 2566,\n",
              " 'two': 2553,\n",
              " 'appear': 2545,\n",
              " 'put': 2540,\n",
              " 'polit': 2526,\n",
              " 'someth': 2518,\n",
              " 'group': 2513,\n",
              " 'part': 2505,\n",
              " 'start': 2484,\n",
              " 's': 2476,\n",
              " 'turn': 2475,\n",
              " 'left': 2435,\n",
              " 'seem': 2427,\n",
              " 'anoth': 2422,\n",
              " 'follow': 2412,\n",
              " 'end': 2404,\n",
              " 'realli': 2401,\n",
              " 'women': 2399,\n",
              " 'respons': 2396,\n",
              " 'today': 2387,\n",
              " 'watch': 2385,\n",
              " 'fox new': 2373,\n",
              " 'nation': 2368,\n",
              " 'day': 2360,\n",
              " 'howev': 2358,\n",
              " 'accord': 2357,\n",
              " 'famili': 2334,\n",
              " 'clinton': 2306,\n",
              " 'presid trump': 2295,\n",
              " 'never': 2252,\n",
              " 'name': 2248,\n",
              " 'first': 2218,\n",
              " 'allow': 2215,\n",
              " 'ad': 2206,\n",
              " 'question': 2195,\n",
              " 'cours': 2195,\n",
              " 'plan': 2172,\n",
              " 'world': 2150,\n",
              " 'year': 2142,\n",
              " 'lie': 2141,\n",
              " 'hope': 2125,\n",
              " 'protest': 2112,\n",
              " 'word': 2102,\n",
              " 'job': 2084,\n",
              " 'stop': 2053,\n",
              " 'recent': 2051,\n",
              " 'speak': 2050,\n",
              " 'tri': 2041,\n",
              " 'media': 2026,\n",
              " 'face': 2007,\n",
              " 'interview': 2002,\n",
              " 'live': 1974,\n",
              " 'instead': 1962,\n",
              " 'let': 1961,\n",
              " 'reason': 1945,\n",
              " 'found': 1921,\n",
              " 'went': 1919,\n",
              " 'investig': 1913,\n",
              " 'someon': 1905,\n",
              " 'stand': 1904,\n",
              " 'stori': 1900,\n",
              " 'came': 1894,\n",
              " 'read': 1882,\n",
              " 'good': 1874,\n",
              " 'gop': 1858,\n",
              " 'hand': 1854,\n",
              " 'problem': 1852,\n",
              " 'keep': 1850,\n",
              " 'alreadi': 1848,\n",
              " 'meet': 1843,\n",
              " 'order': 1836,\n",
              " 'power': 1824,\n",
              " 'run': 1796,\n",
              " 'love': 1796,\n",
              " 'move': 1781,\n",
              " 'place': 1781,\n",
              " 'busi': 1779,\n",
              " 'donald j': 1768,\n",
              " 'chang': 1751,\n",
              " 'law': 1751,\n",
              " 'without': 1745,\n",
              " 'j trump': 1745,\n",
              " 'yet': 1729,\n",
              " 'comment': 1728,\n",
              " 'great': 1727,\n",
              " 'woman': 1721,\n",
              " 'though': 1720,\n",
              " 'compani': 1710,\n",
              " 'critic': 1705,\n",
              " 'noth': 1691,\n",
              " 'thought': 1677,\n",
              " 'parti': 1674,\n",
              " 'find': 1669,\n",
              " 'possibl': 1667,\n",
              " 'polici': 1665,\n",
              " 'number': 1663,\n",
              " 'commun': 1658,\n",
              " 'becom': 1657,\n",
              " 'children': 1656,\n",
              " 'public': 1655,\n",
              " 'must': 1647,\n",
              " 'forc': 1641,\n",
              " 'consid': 1638,\n",
              " 'littl': 1633,\n",
              " 'student': 1620,\n",
              " 'anyon': 1618,\n",
              " 'inform': 1618,\n",
              " 'idea': 1612,\n",
              " 'act': 1608,\n",
              " 'organ': 1602,\n",
              " 'hate': 1602,\n",
              " 'explain': 1601,\n",
              " 'racist': 1593,\n",
              " 'decid': 1593,\n",
              " 'posit': 1586,\n",
              " 'far': 1581,\n",
              " 'bill': 1579,\n",
              " 'anyth': 1561,\n",
              " 'kind': 1556,\n",
              " 'trump support': 1543,\n",
              " 'citi': 1534,\n",
              " 'deal': 1524,\n",
              " 'guy': 1519,\n",
              " 'complet': 1508,\n",
              " 'candid': 1505,\n",
              " 'statement': 1502,\n",
              " 'given': 1499,\n",
              " 'long': 1495,\n",
              " 'congress': 1487,\n",
              " 'seen': 1484,\n",
              " 'lead': 1471,\n",
              " 'matter': 1470,\n",
              " 'might': 1467,\n",
              " 'real': 1467,\n",
              " 'accus': 1464,\n",
              " 'everi': 1461,\n",
              " 'home': 1461,\n",
              " 'current': 1442,\n",
              " 'speech': 1441,\n",
              " 'head': 1440,\n",
              " 'receiv': 1433,\n",
              " 'post': 1433,\n",
              " 'trump campaign': 1430,\n",
              " 'liber': 1429,\n",
              " 'enough': 1429,\n",
              " 'effort': 1427,\n",
              " 'fire': 1426,\n",
              " 'appar': 1423,\n",
              " 'event': 1421,\n",
              " 'provid': 1421,\n",
              " 'result': 1418,\n",
              " 'seriou': 1412,\n",
              " 'creat': 1411,\n",
              " 'caus': 1409,\n",
              " 'expect': 1398,\n",
              " 'understand': 1397,\n",
              " 'note': 1395,\n",
              " 'life': 1395,\n",
              " 'discuss': 1394,\n",
              " 'fight': 1390,\n",
              " 'rather': 1390,\n",
              " 'administr': 1385,\n",
              " 'twitter': 1384,\n",
              " 'better': 1383,\n",
              " 'probabl': 1381,\n",
              " 'sign': 1373,\n",
              " 'hi': 1371,\n",
              " 'barack obama': 1371,\n",
              " 'messag': 1367,\n",
              " 'set': 1362,\n",
              " 'wrote': 1362,\n",
              " 'offici': 1361,\n",
              " 'fail': 1358,\n",
              " 'suprem court': 1355,\n",
              " 'concern': 1354,\n",
              " 'record': 1354,\n",
              " 'alway': 1351,\n",
              " 'hear': 1351,\n",
              " 'respond': 1345,\n",
              " 'thank': 1344,\n",
              " 'feel': 1342,\n",
              " 'play': 1340,\n",
              " 'member': 1334,\n",
              " 'suggest': 1333,\n",
              " 'clearli': 1329,\n",
              " 'cruz': 1327,\n",
              " 'screen captur': 1326,\n",
              " 'final': 1324,\n",
              " 'repres': 1321,\n",
              " 'hold': 1320,\n",
              " 'least': 1318,\n",
              " 'everyon': 1314,\n",
              " 'view': 1304,\n",
              " 'differ': 1301,\n",
              " 'took': 1297,\n",
              " 'sure': 1295,\n",
              " 'immigr': 1295,\n",
              " 'done': 1294,\n",
              " 'sever': 1291,\n",
              " 'voter': 1288,\n",
              " 'attempt': 1287,\n",
              " 'gun': 1285,\n",
              " 'muslim': 1283,\n",
              " 'charg': 1279,\n",
              " 'major': 1277,\n",
              " 'leav': 1276,\n",
              " 'serv': 1275,\n",
              " 'russia': 1273,\n",
              " 'hillari': 1270,\n",
              " 'republican parti': 1267,\n",
              " 'decis': 1264,\n",
              " 'import': 1262,\n",
              " 'offer': 1261,\n",
              " 'began': 1256,\n",
              " 'defend': 1253,\n",
              " 'interest': 1251,\n",
              " 'danger': 1246,\n",
              " 'around': 1245,\n",
              " 'announc': 1239,\n",
              " 'known': 1238,\n",
              " 'action': 1228,\n",
              " 'simpli': 1228,\n",
              " 'ted cruz': 1228,\n",
              " 'leader': 1223,\n",
              " 'lot': 1220,\n",
              " 'rule': 1220,\n",
              " 'friend': 1214,\n",
              " 'involv': 1212,\n",
              " 'money': 1211,\n",
              " 'abl': 1211,\n",
              " 'releas': 1207,\n",
              " 'everyth': 1205,\n",
              " 'polic': 1204,\n",
              " 'agre': 1202,\n",
              " 'former': 1193,\n",
              " 'reveal': 1192,\n",
              " 'histori': 1189,\n",
              " 'clear': 1189,\n",
              " 'percent': 1187,\n",
              " 'base': 1187,\n",
              " 'cover': 1183,\n",
              " 'week': 1178,\n",
              " 'best': 1177,\n",
              " 'true': 1176,\n",
              " 'school': 1173,\n",
              " 'open': 1173,\n",
              " 'author': 1169,\n",
              " 'despit': 1164,\n",
              " 'victim': 1163,\n",
              " 'either': 1162,\n",
              " 'close': 1161,\n",
              " 'describ': 1159,\n",
              " 'kill': 1158,\n",
              " 'total': 1156,\n",
              " 'especi': 1155,\n",
              " 'program': 1153,\n",
              " 'begin': 1151,\n",
              " 'kid': 1151,\n",
              " 'video': 1146,\n",
              " 'requir': 1144,\n",
              " 'cnn': 1143,\n",
              " 'bad': 1139,\n",
              " 'debat': 1129,\n",
              " 'senat': 1127,\n",
              " 'bring': 1125,\n",
              " 'whether': 1125,\n",
              " 'ignor': 1123,\n",
              " 'wrong': 1122,\n",
              " 'prove': 1120,\n",
              " 'list': 1115,\n",
              " 'entir': 1114,\n",
              " 'legal': 1108,\n",
              " 'target': 1106,\n",
              " 'refer': 1102,\n",
              " 'big': 1098,\n",
              " 'fbi': 1090,\n",
              " 'american peopl': 1086,\n",
              " 'alleg': 1085,\n",
              " 'trump said': 1085,\n",
              " 'arrest': 1084,\n",
              " 'absolut': 1083,\n",
              " 'individu': 1083,\n",
              " 'answer': 1077,\n",
              " 'men': 1076,\n",
              " 'gave': 1076,\n",
              " 'becaus': 1069,\n",
              " 'protect': 1069,\n",
              " 'moment': 1067,\n",
              " 'father': 1067,\n",
              " 'exactli': 1066,\n",
              " 'taken': 1066,\n",
              " 'remov': 1064,\n",
              " 'featur imag': 1062,\n",
              " 'demand': 1056,\n",
              " 'full': 1055,\n",
              " 'blame': 1052,\n",
              " 'will': 1050,\n",
              " 'past': 1039,\n",
              " 'rememb': 1039,\n",
              " 'pay': 1033,\n",
              " 'confirm': 1031,\n",
              " 'away': 1026,\n",
              " 'top': 1023,\n",
              " 'learn': 1014,\n",
              " 'focu': 1013,\n",
              " 'push': 1010,\n",
              " 'ralli': 1004,\n",
              " 'whi': 1001,\n",
              " 'line': 1001,\n",
              " 'share': 997,\n",
              " 'fund': 996,\n",
              " 'admit': 992,\n",
              " 'nation secur': 992,\n",
              " 'friday': 987,\n",
              " 'obviou': 980,\n",
              " 'team': 977,\n",
              " 'berni sander': 977,\n",
              " 'st': 976,\n",
              " 'polic offic': 976,\n",
              " 'truth': 972,\n",
              " 'respect': 970,\n",
              " 'last year': 963,\n",
              " 'second': 960,\n",
              " 'deni': 958,\n",
              " 'saw': 958,\n",
              " 'march': 957,\n",
              " 'christian': 956,\n",
              " 'parent': 954,\n",
              " 'often': 953,\n",
              " 'attorney gener': 951,\n",
              " 'three': 949,\n",
              " 'hit': 949,\n",
              " 'employe': 944,\n",
              " 'direct': 944,\n",
              " 'oper': 943,\n",
              " 'mayb': 943,\n",
              " 'along': 942,\n",
              " 'social media': 942,\n",
              " 'remain': 941,\n",
              " 'black': 932,\n",
              " 'gener': 929,\n",
              " 'even though': 929,\n",
              " 'listen': 928,\n",
              " 'ye': 927,\n",
              " 'certainli': 927,\n",
              " 'getti imag': 927,\n",
              " 'outsid': 926,\n",
              " 'secretari state': 925,\n",
              " 'race': 923,\n",
              " 'threaten': 922,\n",
              " 'warn': 915,\n",
              " 'presidenti candid': 915,\n",
              " 'obama administr': 915,\n",
              " 'death': 914,\n",
              " 'poll': 913,\n",
              " 'win': 912,\n",
              " 'control': 912,\n",
              " 'system': 911,\n",
              " 'die': 910,\n",
              " 'effect': 909,\n",
              " 'lost': 902,\n",
              " 'accept': 900,\n",
              " 'monday': 900,\n",
              " 'previou': 899,\n",
              " 'tuesday': 898,\n",
              " 'promis': 896,\n",
              " 'remark': 894,\n",
              " 'york time': 893,\n",
              " 'fake new': 893,\n",
              " 'definit': 891,\n",
              " 'sourc': 889,\n",
              " 'texa': 889,\n",
              " 'celebr': 887,\n",
              " 'son': 884,\n",
              " 'knew': 884,\n",
              " 'among': 883,\n",
              " 'threat': 882,\n",
              " 'build': 882,\n",
              " 'visit': 882,\n",
              " 'side': 876,\n",
              " 'goe': 870,\n",
              " 'book': 869,\n",
              " 'area': 867,\n",
              " 'crowd': 866,\n",
              " 'network': 866,\n",
              " 'law enforc': 866,\n",
              " 'heard': 865,\n",
              " 'thursday': 864,\n",
              " 'evid': 863,\n",
              " 'judg': 862,\n",
              " 'immedi': 862,\n",
              " 'fear': 861,\n",
              " 'situat': 861,\n",
              " 'care': 858,\n",
              " 'illeg': 854,\n",
              " 'trump administr': 854,\n",
              " 'liter': 853,\n",
              " 'argu': 852,\n",
              " 'commit': 851,\n",
              " 'account': 847,\n",
              " 'militari': 846,\n",
              " 'address': 845,\n",
              " 'white supremacist': 843,\n",
              " 'spoke': 842,\n",
              " 'almost': 841,\n",
              " 'child': 840,\n",
              " 'regard': 838,\n",
              " 'reach': 833,\n",
              " 'month': 832,\n",
              " 'join': 832,\n",
              " 'suppos': 831,\n",
              " 'specif': 830,\n",
              " 'pass': 828,\n",
              " 'make sure': 827,\n",
              " 'prevent': 826,\n",
              " 'success': 826,\n",
              " 'trump s': 826,\n",
              " 'next': 825,\n",
              " 'promot': 825,\n",
              " 'paid': 823,\n",
              " 'mother': 823,\n",
              " 'citizen': 821,\n",
              " 'document': 821,\n",
              " 'wait': 820,\n",
              " 'sent': 820,\n",
              " 'cost': 820,\n",
              " 'washington post': 820,\n",
              " 'wonder': 815,\n",
              " 'lose': 814,\n",
              " 'murder': 814,\n",
              " 'basic': 814,\n",
              " 'process': 813,\n",
              " 'yearold': 813,\n",
              " 'letter': 812,\n",
              " 'destroy': 811,\n",
              " 'addit': 810,\n",
              " 'write': 806,\n",
              " 'politician': 806,\n",
              " 'apolog': 805,\n",
              " 'state depart': 803,\n",
              " 'cut': 801,\n",
              " 'later': 800,\n",
              " 'last': 799,\n",
              " 'longer': 798,\n",
              " 'presid unit': 797,\n",
              " 'mr': 796,\n",
              " 'bill clinton': 795,\n",
              " 'wife': 794,\n",
              " 'violenc': 793,\n",
              " 'washington': 793,\n",
              " 'crime': 792,\n",
              " 'live matter': 790,\n",
              " 'pick': 787,\n",
              " 'million': 784,\n",
              " 'wa': 783,\n",
              " 'mr trump': 782,\n",
              " 'due': 776,\n",
              " 'activ': 774,\n",
              " 'futur': 769,\n",
              " 'shot': 767,\n",
              " 'insid': 767,\n",
              " 'last week': 767,\n",
              " 'exampl': 766,\n",
              " 'sound': 766,\n",
              " 'brought': 766,\n",
              " 'form': 765,\n",
              " 'term': 765,\n",
              " 'intern': 765,\n",
              " 'photo': 765,\n",
              " 'sort': 764,\n",
              " 'detail': 763,\n",
              " 'refu': 760,\n",
              " 'attend': 758,\n",
              " 'hurt': 758,\n",
              " 'educ': 757,\n",
              " 'press': 756,\n",
              " 'less': 755,\n",
              " 'black live': 755,\n",
              " 'joke': 753,\n",
              " 'juli': 751,\n",
              " 'perform': 746,\n",
              " 'present': 746,\n",
              " 'surpris': 746,\n",
              " 'shock': 746,\n",
              " 'incid': 745,\n",
              " 'held': 743,\n",
              " 'larg': 742,\n",
              " 'initi': 742,\n",
              " 'controversi': 741,\n",
              " 'progress': 740,\n",
              " 'potenti': 738,\n",
              " 'benefit': 737,\n",
              " 'lawyer': 735,\n",
              " 'websit': 734,\n",
              " 'perhap': 733,\n",
              " 'favor': 732,\n",
              " 'led': 731,\n",
              " 'manag': 730,\n",
              " 'via video': 730,\n",
              " 'agenc': 729,\n",
              " 'behind': 728,\n",
              " 'return': 727,\n",
              " 'disgust': 725,\n",
              " 'shoot': 725,\n",
              " 'legisl': 722,\n",
              " 'war': 722,\n",
              " 'resid': 722,\n",
              " 'request': 720,\n",
              " 'role': 720,\n",
              " 'husband': 716,\n",
              " 'natur': 714,\n",
              " 'arm': 713,\n",
              " 'extrem': 713,\n",
              " 'daughter': 713,\n",
              " 'june': 713,\n",
              " 'exist': 712,\n",
              " 'seek': 711,\n",
              " 'year ago': 711,\n",
              " 'increas': 708,\n",
              " 't': 708,\n",
              " 'declar': 707,\n",
              " 'novemb': 705,\n",
              " 'donat': 705,\n",
              " 'hour': 704,\n",
              " 'insist': 703,\n",
              " 'video screen': 703,\n",
              " 'worri': 702,\n",
              " 'embarrass': 701,\n",
              " 'florida': 701,\n",
              " 'worker': 699,\n",
              " 'racism': 699,\n",
              " 'oppo': 699,\n",
              " 'climat chang': 699,\n",
              " 'choic': 697,\n",
              " 'rai': 697,\n",
              " 'figur': 695,\n",
              " 'movement': 695,\n",
              " 'strong': 692,\n",
              " 'mention': 692,\n",
              " 'within': 691,\n",
              " 'pull': 691,\n",
              " 'send': 690,\n",
              " 'treat': 688,\n",
              " 'propo': 687,\n",
              " 'wednesday': 686,\n",
              " 'soon': 686,\n",
              " 'via getti': 686,\n",
              " 'unfortun': 684,\n",
              " 'met': 684,\n",
              " 'conver': 683,\n",
              " 'democrat parti': 682,\n",
              " 'quit': 681,\n",
              " 'email': 681,\n",
              " 'sander': 681,\n",
              " 'shut': 680,\n",
              " 'god': 680,\n",
              " 'challeng': 678,\n",
              " 'stupid': 678,\n",
              " 'ridicul': 675,\n",
              " 'terrorist': 675,\n",
              " 'expo': 675,\n",
              " 'stay': 674,\n",
              " 'health care': 674,\n",
              " 'outrag': 673,\n",
              " 'drop': 672,\n",
              " 'gone': 672,\n",
              " 'isi': 671,\n",
              " 'valu': 670,\n",
              " 'sit': 668,\n",
              " 'walk': 667,\n",
              " 'huge': 666,\n",
              " 'behavior': 664,\n",
              " 'associ': 664,\n",
              " 'carri': 664,\n",
              " 'practic': 664,\n",
              " 'voic': 663,\n",
              " 'mind': 661,\n",
              " 'california': 661,\n",
              " 'ban': 657,\n",
              " 'articl': 657,\n",
              " 'human': 654,\n",
              " 'constitut': 653,\n",
              " 'first ladi': 653,\n",
              " 'pictur': 652,\n",
              " 'veteran': 652,\n",
              " 'notic': 649,\n",
              " 'handl': 647,\n",
              " 'april': 646,\n",
              " 'endors': 646,\n",
              " 'although': 646,\n",
              " 'sunday': 645,\n",
              " 'latest': 640,\n",
              " 'o reilli': 640,\n",
              " 'intent': 638,\n",
              " 'identifi': 637,\n",
              " 'step': 637,\n",
              " 'usual': 636,\n",
              " 'demonstr': 635,\n",
              " 'whose': 634,\n",
              " 'wit': 632,\n",
              " 'realiz': 631,\n",
              " 'level': 627,\n",
              " 'staff': 627,\n",
              " 'girl': 626,\n",
              " 'refuge': 626,\n",
              " 'putin': 626,\n",
              " 'check': 625,\n",
              " 'crimin': 624,\n",
              " 'room': 623,\n",
              " 'video via': 623,\n",
              " 'experi': 622,\n",
              " 'becam': 621,\n",
              " 'break': 621,\n",
              " 'aid': 621,\n",
              " 'first time': 620,\n",
              " 'connect': 619,\n",
              " 'defens': 618,\n",
              " 'univers': 617,\n",
              " 'short': 615,\n",
              " 'iran': 614,\n",
              " 'compar': 610,\n",
              " 'local': 610,\n",
              " 'presid donald': 609,\n",
              " 'hard': 608,\n",
              " 'relat': 606,\n",
              " 'happi': 606,\n",
              " 'honor': 606,\n",
              " 'determin': 605,\n",
              " 'obamacar': 605,\n",
              " 'opinion': 604,\n",
              " 'bigot': 604,\n",
              " 'journalist': 603,\n",
              " 'terror': 602,\n",
              " 'deliv': 602,\n",
              " 'car': 602,\n",
              " 'block': 602,\n",
              " 'origin': 602,\n",
              " 'cop': 601,\n",
              " 'januari': 600,\n",
              " 'engag': 599,\n",
              " 'chanc': 598,\n",
              " 'plea': 598,\n",
              " 'sexual assault': 595,\n",
              " 'remind': 594,\n",
              " 'republican presidenti': 592,\n",
              " 'civil right': 592,\n",
              " 'particip': 590,\n",
              " 'quickli': 590,\n",
              " 'imagin': 590,\n",
              " 'former presid': 590,\n",
              " 'grow': 589,\n",
              " 'whole': 589,\n",
              " 'prepar': 589,\n",
              " 'suffer': 589,\n",
              " 'conduct': 588,\n",
              " 'trust': 588,\n",
              " 'fan': 587,\n",
              " 'center': 587,\n",
              " 'rest': 586,\n",
              " 'project': 585,\n",
              " 'leak': 582,\n",
              " 'none': 581,\n",
              " 'choo': 580,\n",
              " 'similar': 579,\n",
              " 'corrupt': 578,\n",
              " 'wish': 578,\n",
              " 'buy': 578,\n",
              " 'subject': 577,\n",
              " 'ryan': 576,\n",
              " 'press confer': 576,\n",
              " 'complain': 573,\n",
              " 'presid barack': 573,\n",
              " 'suspect': 571,\n",
              " 'economi': 571,\n",
              " 'particularli': 570,\n",
              " 'massiv': 566,\n",
              " 'insult': 564,\n",
              " 'truli': 564,\n",
              " 'econom': 563,\n",
              " 'except': 563,\n",
              " 'page': 561,\n",
              " 'miss': 561,\n",
              " 'plan parenthood': 561,\n",
              " 'saturday': 560,\n",
              " 'agenda': 559,\n",
              " 'church': 559,\n",
              " 'encourag': 559,\n",
              " 'angri': 559,\n",
              " 'septemb': 559,\n",
              " 'secret': 558,\n",
              " 'north carolina': 558,\n",
              " 'decad': 557,\n",
              " 'abil': 557,\n",
              " 'contribut': 557,\n",
              " 'belowfeatur imag': 557,\n",
              " 'review': 556,\n",
              " 'fbi director': 556,\n",
              " 'befor': 555,\n",
              " 'deserv': 555,\n",
              " 'develop': 555,\n",
              " 'offens': 554,\n",
              " 'violat': 554,\n",
              " 'paul ryan': 554,\n",
              " 'russian': 553,\n",
              " 'abort': 553,\n",
              " 'felt': 553,\n",
              " 'toward': 553,\n",
              " 'right now': 553,\n",
              " 'design': 551,\n",
              " 'togeth': 551,\n",
              " 'small': 549,\n",
              " 'shame': 548,\n",
              " 'opportun': 548,\n",
              " 'fall': 547,\n",
              " 'black peopl': 546,\n",
              " 'violent': 545,\n",
              " 'quot': 544,\n",
              " 'express': 542,\n",
              " 'replac': 542,\n",
              " 'employ': 541,\n",
              " 'scandal': 540,\n",
              " 'one thing': 540,\n",
              " 'establish': 539,\n",
              " 'land': 539,\n",
              " 'train': 538,\n",
              " 'game': 537,\n",
              " 'produc': 537,\n",
              " 'hire': 535,\n",
              " 'facebook': 535,\n",
              " 'exchang': 535,\n",
              " 'meant': 534,\n",
              " 'internet': 533,\n",
              " 'travel': 530,\n",
              " 'poor': 530,\n",
              " 'minut': 529,\n",
              " 'rise': 528,\n",
              " 'sen': 527,\n",
              " 'ground': 527,\n",
              " 'audienc': 526,\n",
              " 'octob': 524,\n",
              " 'beat': 523,\n",
              " 'water': 522,\n",
              " 'februari': 522,\n",
              " 'limit': 522,\n",
              " 'israel': 522,\n",
              " 'make america': 522,\n",
              " 'publish': 521,\n",
              " 'inde': 520,\n",
              " 'ran': 519,\n",
              " 'mani peopl': 519,\n",
              " 'troubl': 518,\n",
              " 'approach': 518,\n",
              " 'cite': 517,\n",
              " 'repeatedli': 517,\n",
              " 'lawmak': 517,\n",
              " 'contact': 517,\n",
              " 'save': 516,\n",
              " 'file': 516,\n",
              " 'wor': 515,\n",
              " 'republican nomine': 514,\n",
              " 'somehow': 513,\n",
              " 'rate': 513,\n",
              " 'societi': 513,\n",
              " 'wear': 513,\n",
              " 'opposit': 513,\n",
              " 'rape': 511,\n",
              " 'feder govern': 510,\n",
              " 'nomin': 508,\n",
              " 'indic': 508,\n",
              " 'crazi': 507,\n",
              " 'age': 507,\n",
              " 'dead': 506,\n",
              " 'relationship': 506,\n",
              " 'folk': 506,\n",
              " 'servic': 506,\n",
              " 'execut order': 505,\n",
              " 'jame comey': 504,\n",
              " 'reportedli': 503,\n",
              " 'bulli': 502,\n",
              " 'late': 501,\n",
              " 'reject': 500,\n",
              " 'decemb': 499,\n",
              " 'normal': 499,\n",
              " 'spend': 498,\n",
              " 'pretti': 497,\n",
              " 'appoint': 497,\n",
              " 'mexico': 496,\n",
              " 'equal': 495,\n",
              " 'vice presid': 495,\n",
              " 'front': 494,\n",
              " 'nearli': 494,\n",
              " 'tie': 494,\n",
              " 'justic depart': 494,\n",
              " 'yesterday': 493,\n",
              " 'throw': 493,\n",
              " 'argument': 492,\n",
              " 'repli': 491,\n",
              " 'terribl': 490,\n",
              " 'presidenti elect': 490,\n",
              " 'penc': 489,\n",
              " 'cultur': 489,\n",
              " 'presidenti campaign': 489,\n",
              " 'north korea': 489,\n",
              " 'readi': 488,\n",
              " 'access': 488,\n",
              " 'islam': 487,\n",
              " 'nobodi': 486,\n",
              " 'directli': 486,\n",
              " 'breitbart news': 486,\n",
              " 'risk': 485,\n",
              " 'leadership': 485,\n",
              " 'radic': 485,\n",
              " 'approv': 485,\n",
              " 'alli': 484,\n",
              " 'guess': 484,\n",
              " 'certain': 483,\n",
              " 'pretti much': 483,\n",
              " 'intend': 482,\n",
              " 'site': 482,\n",
              " 'peac': 481,\n",
              " 'biggest': 480,\n",
              " 'wall': 480,\n",
              " 'studi': 480,\n",
              " 'multipl': 480,\n",
              " 'hell': 479,\n",
              " 'fine': 479,\n",
              " 'ensur': 478,\n",
              " 'correct': 478,\n",
              " 'via screen': 478,\n",
              " 'year old': 478,\n",
              " 'damag': 477,\n",
              " 'wall street': 477,\n",
              " 'divis': 476,\n",
              " 'special': 476,\n",
              " 'clinton campaign': 476,\n",
              " 'august': 475,\n",
              " 'film': 475,\n",
              " 'somebodi': 475,\n",
              " 'last night': 475,\n",
              " 'invit': 474,\n",
              " 'doe': 473,\n",
              " 'prais': 473,\n",
              " 'high': 473,\n",
              " 'particular': 472,\n",
              " 'session': 471,\n",
              " 'stage': 471,\n",
              " 'comey': 471,\n",
              " 'affect': 471,\n",
              " 'product': 471,\n",
              " 'avoid': 470,\n",
              " 'kick': 470,\n",
              " 'advoc': 469,\n",
              " 'allegedli': 469,\n",
              " 'incred': 468,\n",
              " 'minor': 468,\n",
              " 'kept': 467,\n",
              " 'institut': 466,\n",
              " 'realiti': 466,\n",
              " 'fill': 465,\n",
              " 'tradit': 465,\n",
              " 'nra': 465,\n",
              " 'worst': 465,\n",
              " 'laugh': 465,\n",
              " 'corpor': 464,\n",
              " 'collect': 463,\n",
              " 'caught': 461,\n",
              " 'sometim': 461,\n",
              " 'high school': 461,\n",
              " 'lack': 460,\n",
              " 'okay': 460,\n",
              " 'trump presid': 460,\n",
              " 'resign': 459,\n",
              " 'mock': 459,\n",
              " 'bank': 458,\n",
              " 'drive': 458,\n",
              " 'brief': 457,\n",
              " 'recogn': 456,\n",
              " 'europ': 456,\n",
              " 'measur': 456,\n",
              " 'fair': 455,\n",
              " 'safe': 455,\n",
              " 'billion': 454,\n",
              " 'doctor': 452,\n",
              " 'coupl': 452,\n",
              " 'welcom': 452,\n",
              " 'discrimin': 450,\n",
              " 'china': 450,\n",
              " 'religion': 449,\n",
              " 'appli': 449,\n",
              " 'sell': 449,\n",
              " 'rightw': 448,\n",
              " 'burn': 447,\n",
              " 'surround': 447,\n",
              " 'boy': 447,\n",
              " 'trump say': 447,\n",
              " 'idiot': 446,\n",
              " 'chicago': 446,\n",
              " 'white peopl': 446,\n",
              " 'data': 444,\n",
              " 'type': 444,\n",
              " 'abu': 444,\n",
              " 'ultim': 443,\n",
              " 'weekend': 443,\n",
              " 'bodi': 443,\n",
              " 'illeg alien': 443,\n",
              " 'execut': 442,\n",
              " 'earli': 442,\n",
              " 'bannon': 442,\n",
              " 'activist': 442,\n",
              " 'everi day': 441,\n",
              " 'light': 440,\n",
              " 'publicli': 440,\n",
              " 'nice': 438,\n",
              " 'condemn': 438,\n",
              " 'acknowledg': 438,\n",
              " 'clinton foundat': 438,\n",
              " 'enjoy': 437,\n",
              " 'unlik': 437,\n",
              " 'vladimir putin': 437,\n",
              " 'rhetor': 436,\n",
              " ...}"
            ]
          },
          "metadata": {},
          "execution_count": 25
        }
      ]
    },
    {
      "cell_type": "code",
      "source": [
        "processed_real_text = WordCloud().process_text(real_text)\n",
        "real_frequency = {word: count for word, count in sorted(processed_real_text.items(), key=lambda x:-x[1])}\n",
        "real_frequency"
      ],
      "metadata": {
        "id": "NA2JB7vOcHKm",
        "colab": {
          "base_uri": "https://localhost:8080/"
        },
        "outputId": "fd27bfe0-0785-44d1-ee4f-a8f04291893e"
      },
      "execution_count": null,
      "outputs": [
        {
          "output_type": "execute_result",
          "data": {
            "text/plain": [
              "{'said': 14550,\n",
              " 'unit state': 11928,\n",
              " 'donald trump': 9971,\n",
              " 'say': 9670,\n",
              " 'white hous': 8264,\n",
              " 'includ': 6730,\n",
              " 'countri': 6646,\n",
              " 'one': 6623,\n",
              " 'call': 5935,\n",
              " 'presid donald': 5798,\n",
              " 'north korea': 5423,\n",
              " 'support': 5151,\n",
              " 'govern': 5104,\n",
              " 'work': 5067,\n",
              " 'may': 4546,\n",
              " 'ad': 4421,\n",
              " 'use': 4283,\n",
              " 'time': 4178,\n",
              " 'prime minist': 4102,\n",
              " 'issu': 3910,\n",
              " 'said statement': 3824,\n",
              " 'new york': 3677,\n",
              " 'mani': 3594,\n",
              " 'tuesday': 3561,\n",
              " 'monday': 3560,\n",
              " 'offici said': 3504,\n",
              " 'need': 3500,\n",
              " 'plan': 3499,\n",
              " 'us presid': 3496,\n",
              " 'told reuter': 3446,\n",
              " 'trump said': 3390,\n",
              " 'last year': 3368,\n",
              " 'rule': 3365,\n",
              " 'move': 3337,\n",
              " 'islam state': 3333,\n",
              " 'make': 3322,\n",
              " 'barack obama': 3321,\n",
              " 'go': 3293,\n",
              " 'last week': 3293,\n",
              " 'well': 3282,\n",
              " 'wednesday': 3248,\n",
              " 'even': 3143,\n",
              " 'told report': 3120,\n",
              " 'follow': 3102,\n",
              " 'friday': 3081,\n",
              " 'washington': 3050,\n",
              " 'meet': 3046,\n",
              " 'back': 3031,\n",
              " 'sinc': 3028,\n",
              " 'help': 3022,\n",
              " 'part': 3015,\n",
              " 'peopl': 3013,\n",
              " 'thursday': 3008,\n",
              " 'china': 2893,\n",
              " 'presid barack': 2888,\n",
              " 'ask': 2870,\n",
              " 'chang': 2841,\n",
              " 'think': 2838,\n",
              " 'made': 2820,\n",
              " 'come': 2814,\n",
              " 'talk': 2813,\n",
              " 'case': 2797,\n",
              " 'allow': 2795,\n",
              " 'vote': 2775,\n",
              " 'thi': 2763,\n",
              " 'expect': 2748,\n",
              " 'want': 2734,\n",
              " 'us senat': 2732,\n",
              " 'critic': 2715,\n",
              " 'posit': 2606,\n",
              " 'polit': 2596,\n",
              " 'see': 2583,\n",
              " 'still': 2572,\n",
              " 'compani': 2566,\n",
              " 'accord': 2532,\n",
              " 'set': 2526,\n",
              " 'last month': 2476,\n",
              " 'hillari clinton': 2473,\n",
              " 'continu': 2455,\n",
              " 'two': 2441,\n",
              " 'anoth': 2433,\n",
              " 'suprem court': 2420,\n",
              " 'believ': 2388,\n",
              " 'respons': 2376,\n",
              " 'trump administr': 2371,\n",
              " 'put': 2365,\n",
              " 'deal': 2363,\n",
              " 'hope': 2355,\n",
              " 'order': 2331,\n",
              " 'region': 2324,\n",
              " 'appear': 2320,\n",
              " 'propos': 2271,\n",
              " 'secretari state': 2260,\n",
              " 'end': 2247,\n",
              " 'hous repres': 2244,\n",
              " 'nation secur': 2235,\n",
              " 'author': 2211,\n",
              " 'decis': 2197,\n",
              " 'look': 2196,\n",
              " 'discuss': 2192,\n",
              " 'attack': 2190,\n",
              " 'remain': 2172,\n",
              " 'seek': 2161,\n",
              " 'show': 2157,\n",
              " 'russia': 2153,\n",
              " 'head': 2138,\n",
              " 'way': 2122,\n",
              " 'oper': 2111,\n",
              " 'give': 2075,\n",
              " 'current': 2072,\n",
              " 'group': 2069,\n",
              " 'lead': 2062,\n",
              " 'consid': 2054,\n",
              " 'human right': 2054,\n",
              " 'unit nation': 2052,\n",
              " 'face': 2050,\n",
              " 'protest': 2029,\n",
              " 'alreadi': 2018,\n",
              " 'presidenti elect': 2007,\n",
              " 'said trump': 2005,\n",
              " 'first': 1997,\n",
              " 'power': 1981,\n",
              " 'recent': 1970,\n",
              " 'area': 1969,\n",
              " 'howev': 1955,\n",
              " 'concern': 1954,\n",
              " 'focu': 1954,\n",
              " 'start': 1952,\n",
              " 'day': 1951,\n",
              " 'possibl': 1923,\n",
              " 'agre': 1909,\n",
              " 'week': 1904,\n",
              " 'congress': 1903,\n",
              " 'european union': 1900,\n",
              " 'busi': 1893,\n",
              " 'sever': 1889,\n",
              " 'member': 1880,\n",
              " 'parti': 1863,\n",
              " 'name': 1855,\n",
              " 'saudi arabia': 1851,\n",
              " 'target': 1850,\n",
              " 'requir': 1850,\n",
              " 'sunday': 1846,\n",
              " 'state depart': 1833,\n",
              " 'accus': 1830,\n",
              " 'close': 1822,\n",
              " 'famili': 1809,\n",
              " 'negoti': 1804,\n",
              " 'lawmak': 1796,\n",
              " 'take': 1787,\n",
              " 'import': 1782,\n",
              " 'run': 1773,\n",
              " 'law': 1772,\n",
              " 'said wednesday': 1768,\n",
              " 'given': 1764,\n",
              " 'foreign minist': 1759,\n",
              " 'open': 1756,\n",
              " 'offer': 1755,\n",
              " 'stop': 1726,\n",
              " 'tri': 1719,\n",
              " 'measur': 1713,\n",
              " 'polici': 1711,\n",
              " 'year': 1710,\n",
              " 'report': 1710,\n",
              " 'push': 1706,\n",
              " 'citi': 1705,\n",
              " 'result': 1696,\n",
              " 'forc': 1688,\n",
              " 'bill': 1674,\n",
              " 'action': 1664,\n",
              " 'question': 1663,\n",
              " 'provid': 1653,\n",
              " 'job': 1653,\n",
              " 'mean': 1652,\n",
              " 'attorney gener': 1652,\n",
              " 'base': 1644,\n",
              " 'among': 1641,\n",
              " 'view': 1640,\n",
              " 'said thursday': 1636,\n",
              " 'person': 1635,\n",
              " 'inform': 1634,\n",
              " 'charg': 1634,\n",
              " 'march': 1626,\n",
              " 'trump campaign': 1623,\n",
              " 'saturday': 1618,\n",
              " 'far': 1614,\n",
              " 'although': 1601,\n",
              " 'previou': 1597,\n",
              " 'effort': 1593,\n",
              " 'without': 1591,\n",
              " 'return': 1590,\n",
              " 'campaign': 1589,\n",
              " 'much': 1587,\n",
              " 'suggest': 1586,\n",
              " 'despit': 1579,\n",
              " 'said tuesday': 1572,\n",
              " 'know': 1564,\n",
              " 'involv': 1561,\n",
              " 'found': 1556,\n",
              " 'american': 1555,\n",
              " 'long': 1546,\n",
              " 'left': 1543,\n",
              " 'legisl': 1514,\n",
              " 'administr': 1511,\n",
              " 'warn': 1511,\n",
              " 'polic': 1498,\n",
              " 'number': 1498,\n",
              " 'clear': 1497,\n",
              " 'might': 1497,\n",
              " 'larg': 1497,\n",
              " 'said friday': 1496,\n",
              " 'commun': 1492,\n",
              " 'voter': 1491,\n",
              " 'clinton': 1489,\n",
              " 'receiv': 1488,\n",
              " 'side': 1488,\n",
              " 'turn': 1487,\n",
              " 'describ': 1486,\n",
              " 'led': 1476,\n",
              " 'potenti': 1472,\n",
              " 'becom': 1468,\n",
              " 'initi': 1468,\n",
              " 'announc': 1467,\n",
              " 'demand': 1467,\n",
              " 'place': 1464,\n",
              " 'point': 1464,\n",
              " 'home': 1462,\n",
              " 'seen': 1461,\n",
              " 'fight': 1455,\n",
              " 'investig': 1453,\n",
              " 'presidenti candid': 1449,\n",
              " 'fund': 1448,\n",
              " 'hand': 1441,\n",
              " 'held': 1426,\n",
              " 'project': 1424,\n",
              " 'sign': 1418,\n",
              " 'process': 1416,\n",
              " 'challeng': 1416,\n",
              " 'iran': 1412,\n",
              " 'republican presidenti': 1403,\n",
              " 'news confer': 1402,\n",
              " 'comment': 1398,\n",
              " 'defend': 1396,\n",
              " 'program': 1390,\n",
              " 'north korean': 1389,\n",
              " 'hold': 1388,\n",
              " 'system': 1380,\n",
              " 'said monday': 1377,\n",
              " 'event': 1370,\n",
              " 'leav': 1369,\n",
              " 'carri': 1364,\n",
              " 'economi': 1357,\n",
              " 'sourc said': 1355,\n",
              " 'germani': 1354,\n",
              " 'address': 1352,\n",
              " 'turkey': 1341,\n",
              " 'south korea': 1340,\n",
              " 'us offici': 1339,\n",
              " 'keep': 1338,\n",
              " 'build': 1336,\n",
              " 'problem': 1335,\n",
              " 'regul': 1329,\n",
              " 'republican senat': 1329,\n",
              " 'obama administr': 1324,\n",
              " 'three': 1322,\n",
              " 'organ': 1320,\n",
              " 'month': 1317,\n",
              " 'britain': 1310,\n",
              " 'increas': 1306,\n",
              " 'yet': 1305,\n",
              " 'develop': 1303,\n",
              " 'debat': 1301,\n",
              " 'prepar': 1300,\n",
              " 'limit': 1300,\n",
              " 'next year': 1293,\n",
              " 'juli': 1292,\n",
              " 'around': 1282,\n",
              " 'serv': 1280,\n",
              " 'differ': 1277,\n",
              " 'act': 1265,\n",
              " 'join': 1263,\n",
              " 'share': 1261,\n",
              " 'though': 1254,\n",
              " 'review': 1249,\n",
              " 'effect': 1246,\n",
              " 'step': 1240,\n",
              " 'eu': 1239,\n",
              " 'came': 1232,\n",
              " 'must': 1228,\n",
              " 'vice presid': 1226,\n",
              " 'past': 1224,\n",
              " 'june': 1215,\n",
              " 'nation': 1214,\n",
              " 'argu': 1205,\n",
              " 'note': 1202,\n",
              " 'fear': 1200,\n",
              " 'public': 1192,\n",
              " 'europ': 1191,\n",
              " 'opposit': 1189,\n",
              " 'secur council': 1185,\n",
              " 'commit': 1183,\n",
              " 'agreement': 1174,\n",
              " 'separ': 1170,\n",
              " 'accept': 1169,\n",
              " 'justic depart': 1169,\n",
              " 'percent': 1164,\n",
              " 'futur': 1161,\n",
              " 'due': 1159,\n",
              " 'interest': 1154,\n",
              " 'met': 1154,\n",
              " 'often': 1154,\n",
              " 'risk': 1152,\n",
              " 'foreign ministri': 1150,\n",
              " 'market': 1149,\n",
              " 'speech': 1147,\n",
              " 'now': 1143,\n",
              " 'stand': 1137,\n",
              " 'creat': 1136,\n",
              " 'former presid': 1135,\n",
              " 'puerto rico': 1135,\n",
              " 'happen': 1134,\n",
              " 'cost': 1133,\n",
              " 'today': 1133,\n",
              " 'good': 1132,\n",
              " 'whose': 1132,\n",
              " 'instead': 1128,\n",
              " 'decid': 1120,\n",
              " 'news agenc': 1120,\n",
              " 'middl east': 1120,\n",
              " 'direct': 1116,\n",
              " 'lawyer': 1110,\n",
              " 'industri': 1109,\n",
              " 'intern': 1108,\n",
              " 'record': 1104,\n",
              " 'visit': 1102,\n",
              " 'bring': 1100,\n",
              " 'mexico': 1100,\n",
              " 'caus': 1099,\n",
              " 'resid': 1096,\n",
              " 'offic': 1095,\n",
              " 'benefit': 1090,\n",
              " 'oppo': 1087,\n",
              " 'live': 1085,\n",
              " 'refer': 1083,\n",
              " 'someth': 1081,\n",
              " 'complet': 1081,\n",
              " 'never': 1079,\n",
              " 'april': 1079,\n",
              " 'messag': 1078,\n",
              " 'new': 1076,\n",
              " 'activ': 1076,\n",
              " 'rather': 1072,\n",
              " 'beij': 1067,\n",
              " 'yearold': 1066,\n",
              " 'hi': 1066,\n",
              " 'present': 1065,\n",
              " 'role': 1065,\n",
              " 'fire': 1064,\n",
              " 'later': 1061,\n",
              " 'request comment': 1053,\n",
              " 'attempt': 1050,\n",
              " 'speak': 1049,\n",
              " 'us hous': 1048,\n",
              " 'known': 1047,\n",
              " 'taken': 1044,\n",
              " 'detail': 1044,\n",
              " 'women': 1042,\n",
              " 'list': 1041,\n",
              " 'declin comment': 1038,\n",
              " 'arrest': 1029,\n",
              " 'parliament': 1024,\n",
              " 'whether': 1022,\n",
              " 'worker': 1018,\n",
              " 'delay': 1017,\n",
              " 'climat chang': 1017,\n",
              " 'remov': 1016,\n",
              " 'sent': 1016,\n",
              " 'addit': 1014,\n",
              " 'promis': 1013,\n",
              " 'execut order': 1013,\n",
              " 'fail': 1010,\n",
              " 'ensur': 1003,\n",
              " 'januari': 1002,\n",
              " 'septemb': 1002,\n",
              " 'emerg': 1000,\n",
              " 'legal': 997,\n",
              " 'america': 997,\n",
              " 'hous said': 991,\n",
              " 'bank': 990,\n",
              " 'account': 987,\n",
              " 'worri': 986,\n",
              " 'success': 984,\n",
              " 'urg': 983,\n",
              " 'find': 982,\n",
              " 'reject': 981,\n",
              " 'money': 977,\n",
              " 'establish': 977,\n",
              " 'social media': 976,\n",
              " 'respect': 974,\n",
              " 'foreign polici': 973,\n",
              " 'threat': 970,\n",
              " 'next week': 970,\n",
              " 'outsid': 968,\n",
              " 'japan': 964,\n",
              " 'candid': 963,\n",
              " 'politician': 961,\n",
              " 'hear': 961,\n",
              " 'thing': 959,\n",
              " 'idea': 959,\n",
              " 'chief execut': 958,\n",
              " 'obama': 957,\n",
              " 'presidenti campaign': 957,\n",
              " 'soon': 955,\n",
              " 'matter': 953,\n",
              " 'secur forc': 950,\n",
              " 'claim': 948,\n",
              " 'prevent': 947,\n",
              " 'affect': 942,\n",
              " 'tax reform': 942,\n",
              " 'wrote': 940,\n",
              " 'confirm': 938,\n",
              " 'product': 936,\n",
              " 'august': 936,\n",
              " 'moscow': 935,\n",
              " 'intellig agenc': 935,\n",
              " 'began': 934,\n",
              " 'sought': 928,\n",
              " 'second': 924,\n",
              " 'rai': 922,\n",
              " 'approach': 921,\n",
              " 'fact': 912,\n",
              " 'engag': 910,\n",
              " 'less': 910,\n",
              " 'block': 910,\n",
              " 'let': 909,\n",
              " 'man': 904,\n",
              " 'year ago': 904,\n",
              " 'major': 903,\n",
              " 'conserv': 901,\n",
              " 'octob': 898,\n",
              " 'vladimir putin': 896,\n",
              " 'strong': 894,\n",
              " 'stay': 891,\n",
              " 'line': 891,\n",
              " 'impact': 889,\n",
              " 'term': 889,\n",
              " 'begin': 888,\n",
              " 'ban': 887,\n",
              " 'threaten': 885,\n",
              " 'final': 881,\n",
              " 'approv': 881,\n",
              " 'first time': 881,\n",
              " 'respond request': 880,\n",
              " 'ministri said': 876,\n",
              " 'attend': 875,\n",
              " 'releas': 870,\n",
              " 'reason': 870,\n",
              " 'franc': 870,\n",
              " 'wall street': 869,\n",
              " 'tell': 866,\n",
              " 'promot': 865,\n",
              " 'two year': 865,\n",
              " 'us presidenti': 864,\n",
              " 'reach': 863,\n",
              " 'form': 862,\n",
              " 'particip': 861,\n",
              " 'especi': 859,\n",
              " 'welcom': 857,\n",
              " 'children': 856,\n",
              " 'abl': 856,\n",
              " 'ralli': 855,\n",
              " 'favor': 854,\n",
              " 'key': 852,\n",
              " 'employe': 848,\n",
              " 'decemb': 847,\n",
              " 'invest': 846,\n",
              " 'ballist missil': 846,\n",
              " 'center': 842,\n",
              " 'local': 840,\n",
              " 's': 837,\n",
              " 'big': 836,\n",
              " 'spokesman said': 834,\n",
              " 'pay': 831,\n",
              " 'advanc': 830,\n",
              " 'done': 829,\n",
              " 'tweet': 828,\n",
              " 'presidentelect donald': 828,\n",
              " 'leadership': 827,\n",
              " 'indic': 827,\n",
              " 'appoint': 824,\n",
              " 'us govern': 822,\n",
              " 'disput': 821,\n",
              " 'similar': 821,\n",
              " 'post': 820,\n",
              " 'gave': 820,\n",
              " 'prompt': 817,\n",
              " 'determin': 816,\n",
              " 'illeg immigr': 816,\n",
              " 'level': 814,\n",
              " 'strategi': 811,\n",
              " 'cite': 809,\n",
              " 'cover': 809,\n",
              " 'battl': 804,\n",
              " 'global': 803,\n",
              " 'right group': 803,\n",
              " 'figur': 802,\n",
              " 'us militari': 801,\n",
              " 'million peopl': 801,\n",
              " 'democrat parti': 797,\n",
              " 'aid': 792,\n",
              " 'understand': 792,\n",
              " 'israel': 792,\n",
              " 'violenc': 788,\n",
              " 'avoid': 787,\n",
              " 'nov elect': 787,\n",
              " 'launch': 786,\n",
              " 'seriou': 785,\n",
              " 'pressur': 781,\n",
              " 'better': 780,\n",
              " 'presidenti nomine': 780,\n",
              " 'kind': 779,\n",
              " 'design': 779,\n",
              " 'demonstr': 778,\n",
              " 'tradit': 778,\n",
              " 'individu': 777,\n",
              " 'presid vladimir': 776,\n",
              " 'alli': 775,\n",
              " 'either': 774,\n",
              " 'democrat senat': 773,\n",
              " 'conflict': 768,\n",
              " 'offic said': 767,\n",
              " 'incid': 764,\n",
              " 'near': 763,\n",
              " 'rex tillerson': 763,\n",
              " 'latest': 761,\n",
              " 'play': 761,\n",
              " 'implement': 760,\n",
              " 'aim': 759,\n",
              " 'link': 757,\n",
              " 'republican parti': 757,\n",
              " 'session': 756,\n",
              " 'relat': 756,\n",
              " 'subject': 754,\n",
              " 'along': 754,\n",
              " 'trade deal': 753,\n",
              " 'real estat': 752,\n",
              " 'remark': 751,\n",
              " 'word': 750,\n",
              " 'lost': 749,\n",
              " 'island': 749,\n",
              " 'encourag': 749,\n",
              " 'struggl': 748,\n",
              " 'death': 748,\n",
              " 'hit': 748,\n",
              " 'nuclear weapon': 748,\n",
              " 'pledg': 747,\n",
              " 'damag': 747,\n",
              " 'alway': 746,\n",
              " 'tax cut': 746,\n",
              " 'will': 745,\n",
              " 'enough': 745,\n",
              " 'trump told': 745,\n",
              " 'alleg': 744,\n",
              " 'us intellig': 744,\n",
              " 'letter': 743,\n",
              " 'exist': 743,\n",
              " 'seem': 742,\n",
              " 'longer': 741,\n",
              " 'cooper': 740,\n",
              " 'cut': 739,\n",
              " 'ahead': 739,\n",
              " 'contribut': 738,\n",
              " 'rise': 737,\n",
              " 'opinion poll': 736,\n",
              " 'feel': 734,\n",
              " 'great': 733,\n",
              " 'health insur': 733,\n",
              " 'german': 732,\n",
              " 'statement': 731,\n",
              " 'control': 731,\n",
              " 'littl': 731,\n",
              " 'conduct': 730,\n",
              " 'document': 730,\n",
              " 'total': 729,\n",
              " 'said ad': 729,\n",
              " 'allianc': 728,\n",
              " 'send': 725,\n",
              " 'bodi': 724,\n",
              " 'militari': 724,\n",
              " 'cuba': 722,\n",
              " 'least': 722,\n",
              " 'republican presid': 722,\n",
              " 'main': 720,\n",
              " 'california': 720,\n",
              " 'saw': 719,\n",
              " 'unlik': 718,\n",
              " 'blame': 717,\n",
              " 'london': 716,\n",
              " 'putin': 716,\n",
              " 'thought': 716,\n",
              " 'histori': 715,\n",
              " 'senat republican': 714,\n",
              " 'partner': 712,\n",
              " 'florida': 712,\n",
              " 'former us': 712,\n",
              " 'improv': 711,\n",
              " 'deleg': 711,\n",
              " 'restrict': 710,\n",
              " 'got': 710,\n",
              " 'took': 707,\n",
              " 'replac': 705,\n",
              " 'brought': 705,\n",
              " 'democrat presidenti': 703,\n",
              " 'identifi': 702,\n",
              " 'small': 699,\n",
              " 'danger': 696,\n",
              " 'us secretari': 696,\n",
              " 'realli': 695,\n",
              " 'four': 693,\n",
              " 'lot': 690,\n",
              " 'price': 690,\n",
              " 'acknowledg': 689,\n",
              " 'top': 688,\n",
              " 'press': 688,\n",
              " 'hospit': 688,\n",
              " 'situat': 687,\n",
              " 'independ': 687,\n",
              " 'us state': 687,\n",
              " 'paul ryan': 686,\n",
              " 'myanmar': 685,\n",
              " 'oct': 685,\n",
              " 'decad': 683,\n",
              " 'quickli': 681,\n",
              " 'elect campaign': 681,\n",
              " 'produc': 680,\n",
              " 'sept': 680,\n",
              " 'object': 680,\n",
              " 'regard': 678,\n",
              " 'manag': 678,\n",
              " 'maintain': 678,\n",
              " 'arriv': 677,\n",
              " 'ground': 677,\n",
              " 'intellig committe': 677,\n",
              " 'suspect': 675,\n",
              " 'pakistan': 675,\n",
              " 'deliv': 673,\n",
              " 'w bush': 673,\n",
              " 'hour': 670,\n",
              " 'world': 669,\n",
              " 'us elect': 669,\n",
              " 'practic': 666,\n",
              " 'went': 665,\n",
              " 'homeland secur': 665,\n",
              " 'school': 664,\n",
              " 'everi': 664,\n",
              " 'expand': 663,\n",
              " 'controversi': 662,\n",
              " 'india': 662,\n",
              " 'georg w': 662,\n",
              " 'firm': 661,\n",
              " 'readi': 660,\n",
              " 'secur advis': 660,\n",
              " 'court rule': 660,\n",
              " 'town': 659,\n",
              " 'obama said': 658,\n",
              " 'weekend': 657,\n",
              " 'earlier month': 657,\n",
              " 'presid trump': 657,\n",
              " 'land': 655,\n",
              " 'said interview': 655,\n",
              " 'race': 653,\n",
              " 'told new': 653,\n",
              " 'civil war': 653,\n",
              " 'free trade': 653,\n",
              " 'law enforc': 652,\n",
              " 'drive': 650,\n",
              " 'option': 649,\n",
              " 'trip': 649,\n",
              " 'state rex': 649,\n",
              " 'valu': 647,\n",
              " 'particularli': 647,\n",
              " 'access': 647,\n",
              " 'new jersey': 647,\n",
              " 'actual': 646,\n",
              " 'grow': 644,\n",
              " 'travel': 644,\n",
              " 'polic said': 642,\n",
              " 'victim': 641,\n",
              " 'theresa may': 640,\n",
              " 'evid': 638,\n",
              " 'within': 638,\n",
              " 'russian presid': 638,\n",
              " 'fox new': 638,\n",
              " 'specif': 637,\n",
              " 'chines': 636,\n",
              " 'statement said': 636,\n",
              " 'judg': 634,\n",
              " 'probabl': 634,\n",
              " 'employ': 634,\n",
              " 'condit anonym': 633,\n",
              " 'north carolina': 629,\n",
              " 'websit': 627,\n",
              " 'behind': 627,\n",
              " 'tax rate': 627,\n",
              " 'hurt': 626,\n",
              " 'australia': 625,\n",
              " 'feder govern': 625,\n",
              " 'team': 624,\n",
              " 'insist': 624,\n",
              " 'shi ite': 624,\n",
              " 'gain': 623,\n",
              " 'signific': 622,\n",
              " 'syria': 622,\n",
              " 'oppon': 622,\n",
              " 'detain': 621,\n",
              " 'appli': 621,\n",
              " 'took offic': 621,\n",
              " 'kill peopl': 621,\n",
              " 'extend': 620,\n",
              " 'dont': 620,\n",
              " 'goal': 620,\n",
              " 'drop': 619,\n",
              " 'said sunday': 619,\n",
              " 'budget': 618,\n",
              " 'estim': 618,\n",
              " 'reflect': 618,\n",
              " 'angela merkel': 618,\n",
              " 'movement': 616,\n",
              " 'host': 616,\n",
              " 'said last': 616,\n",
              " 'connect': 615,\n",
              " 'take offic': 615,\n",
              " 'noth': 614,\n",
              " 'democraci': 613,\n",
              " 'data': 613,\n",
              " 'file': 612,\n",
              " 'site': 612,\n",
              " 'earli': 612,\n",
              " 'togeth': 612,\n",
              " 'pick': 612,\n",
              " 'air forc': 612,\n",
              " 'committe said': 611,\n",
              " 'signal': 610,\n",
              " 'govern said': 607,\n",
              " 'reform': 606,\n",
              " 'spend': 604,\n",
              " 'insid': 604,\n",
              " 'achiev': 604,\n",
              " 'suffer': 604,\n",
              " 'media report': 603,\n",
              " 'speaker paul': 603,\n",
              " 'administr offici': 603,\n",
              " 'crisi': 602,\n",
              " 'south korean': 601,\n",
              " 'wait': 600,\n",
              " 'institut': 599,\n",
              " 'mitch mcconnel': 598,\n",
              " 'men': 597,\n",
              " 'certain': 597,\n",
              " 'mike penc': 597,\n",
              " 'democrat presid': 597,\n",
              " 'away': 595,\n",
              " 'grant': 595,\n",
              " 'dismiss': 594,\n",
              " 'anyon': 594,\n",
              " 'opportun': 594,\n",
              " 'earlier year': 592,\n",
              " 'die': 591,\n",
              " 'exampl': 591,\n",
              " 'formal': 591,\n",
              " 'stage': 590,\n",
              " 'recent year': 589,\n",
              " 'brief': 588,\n",
              " 'dec': 586,\n",
              " 'recommend': 586,\n",
              " 'mostli': 585,\n",
              " 'resign': 584,\n",
              " 'declar': 584,\n",
              " 'republican leader': 584,\n",
              " 'februari': 582,\n",
              " 'nuclear deal': 582,\n",
              " 'republican us': 582,\n",
              " 'violat': 581,\n",
              " 'friend': 581,\n",
              " 'soldier': 580,\n",
              " 'boost': 579,\n",
              " 'villag': 579,\n",
              " 'investor': 578,\n",
              " 'poll show': 578,\n",
              " 'student': 576,\n",
              " 'schedul': 575,\n",
              " 'said one': 575,\n",
              " 'two countri': 575,\n",
              " 'construct': 574,\n",
              " 'chief staff': 574,\n",
              " 'origin': 573,\n",
              " 'govern offici': 573,\n",
              " 'philippin': 572,\n",
              " 'everyth': 571,\n",
              " 'minist theresa': 571,\n",
              " 'ted cruz': 570,\n",
              " 'us repres': 570,\n",
              " 'condemn': 569,\n",
              " 'capit': 569,\n",
              " 'paid': 569,\n",
              " 'popular': 568,\n",
              " 'afghanistan': 567,\n",
              " 'best': 567,\n",
              " 'reduc': 565,\n",
              " 'quit': 565,\n",
              " 'chancellor angela': 565,\n",
              " 'trump call': 564,\n",
              " 'full': 563,\n",
              " 'spain': 563,\n",
              " 'venezuela': 562,\n",
              " 'french': 562,\n",
              " 'take place': 562,\n",
              " 'prais': 561,\n",
              " 'percentag point': 561,\n",
              " 'elimin': 560,\n",
              " 'prioriti': 560,\n",
              " 'corrupt': 560,\n",
              " 'leader mitch': 560,\n",
              " 'anyth': 559,\n",
              " 'choic': 558,\n",
              " 'poll': 556,\n",
              " 'board': 556,\n",
              " 'refus': 555,\n",
              " 'break': 555,\n",
              " 'father': 555,\n",
              " 'kill': 555,\n",
              " 'train': 555,\n",
              " 'failur': 554,\n",
              " 'adopt': 553,\n",
              " 'difficult': 553,\n",
              " 'network': 553,\n",
              " 'defeat': 551,\n",
              " 'special counsel': 551,\n",
              " 'democrat leader': 550,\n",
              " 'period': 549,\n",
              " 'sometim': 549,\n",
              " 'activist': 549,\n",
              " 'appeal court': 549,\n",
              " 'progress': 548,\n",
              " 'senat democrat': 548,\n",
              " 'major leader': 548,\n",
              " 'transit team': 548,\n",
              " 'victori': 547,\n",
              " 'rel': 546,\n",
              " 'undermin': 546,\n",
              " 'confid': 546,\n",
              " 'life': 546,\n",
              " 'studi': 545,\n",
              " 'un secur': 545,\n",
              " 'sale': 544,\n",
              " 'immigr': 543,\n",
              " 'trigger': 543,\n",
              " 'canada': 543,\n",
              " 'read': 541,\n",
              " 'consult': 541,\n",
              " 'british': 540,\n",
              " 'invit': 540,\n",
              " 'agenda': 540,\n",
              " 'trial': 540,\n",
              " 'berni sander': 540,\n",
              " 'intend': 539,\n",
              " 'macron': 539,\n",
              " 'eventu': 538,\n",
              " 'lebanon': 538,\n",
              " 'air strike': 537,\n",
              " 'new zealand': 537,\n",
              " 'almost': 536,\n",
              " 'cours': 536,\n",
              " 'south carolina': 536,\n",
              " 'suspend': 535,\n",
              " 'travel ban': 535,\n",
              " 'texa': 534,\n",
              " 'provis': 533,\n",
              " 'milit group': 533,\n",
              " 'surpris': 532,\n",
              " 'journalist': 532,\n",
              " 'hous republican': 531,\n",
              " 'iranian': 530,\n",
              " 'fall': 530,\n",
              " 'abil': 529,\n",
              " 'meant': 528,\n",
              " 'neighbor': 527,\n",
              " 'third': 527,\n",
              " 'financ minist': 527,\n",
              " 'new hampshir': 527,\n",
              " 'percent percent': 527,\n",
              " 'agenc said': 526,\n",
              " 'crime': 525,\n",
              " 'lack': 524,\n",
              " 'contact': 523,\n",
              " 'celebr': 521,\n",
              " 'prospect': 521,\n",
              " 'vehicl': 520,\n",
              " 'five year': 520,\n",
              " 'bar': 518,\n",
              " 'constitut': 518,\n",
              " 'us congress': 518,\n",
              " 'china sea': 518,\n",
              " 'york time': 517,\n",
              " 'clinton campaign': 517,\n",
              " 'ship': 516,\n",
              " 'pyongyang': 515,\n",
              " 'catalonia': 514,\n",
              " 'pursu': 513,\n",
              " 'someon': 513,\n",
              " 'committe chairman': 513,\n",
              " 'immedi': 512,\n",
              " 'necessari': 512,\n",
              " 'dozen': 511,\n",
              " 'five': 510,\n",
              " 'prosecut': 510,\n",
              " 'peopl kill': 510,\n",
              " 'simpli': 509,\n",
              " 'advoc': 509,\n",
              " 'befor': 508,\n",
              " 'shift': 508,\n",
              " 'lose': 506,\n",
              " 'hous offici': 506,\n",
              " 'novemb': 505,\n",
              " 'immedi respond': 503,\n",
              " 'car': 502,\n",
              " 'senat major': 502,\n",
              " 'three year': 502,\n",
              " 'educ': 501,\n",
              " 'bloc': 501,\n",
              " 'payment': 501,\n",
              " 'presid xi': 501,\n",
              " 'trump republican': 501,\n",
              " 'mark': 500,\n",
              " 'xi jinp': 500,\n",
              " 'group said': 500,\n",
              " 'win': 499,\n",
              " 'protect': 499,\n",
              " 'presid georg': 499,\n",
              " 'care act': 499,\n",
              " 'convict': 496,\n",
              " 'trust': 496,\n",
              " 'seri': 496,\n",
              " 'harm': 496,\n",
              " 'two week': 496,\n",
              " 'amend': 495,\n",
              " 'compar': 495,\n",
              " 'endors': 494,\n",
              " 'im': 494,\n",
              " 'us suprem': 494,\n",
              " 'relationship': 493,\n",
              " 'depart said': 493,\n",
              " 'camp': 492,\n",
              " 'state milit': 492,\n",
              " 'airport': 491,\n",
              " 'conver': 491,\n",
              " 'tillerson': 490,\n",
              " 'missil program': 490,\n",
              " 'contract': 488,\n",
              " 'languag': 486,\n",
              " 'trade agreement': 486,\n",
              " 'offici say': 486,\n",
              " 'south china': 486,\n",
              " 'said twitter': 486,\n",
              " 'moment': 485,\n",
              " 'date': 485,\n",
              " 'suu kyi': 485,\n",
              " 'gener elect': 485,\n",
              " 'clinton said': 485,\n",
              " 'associ': 483,\n",
              " 'compromis': 483,\n",
              " 'rang': 482,\n",
              " 'imag': 482,\n",
              " 'publicli': 482,\n",
              " 'fbi director': 482,\n",
              " 'republican democrat': 481,\n",
              " 'afford care': 481,\n",
              " 'econom growth': 481,\n",
              " 'locat': 480,\n",
              " 'ultim': 480,\n",
              " 'directli': 480,\n",
              " 'hous spokesman': 480,\n",
              " 'egypt': 479,\n",
              " 'nuclear test': 477,\n",
              " 'citizen': 476,\n",
              " 'financ': 476,\n",
              " 'chanc': 476,\n",
              " 'brussel': 476,\n",
              " 'senior': 476,\n",
              " 'intent': 476,\n",
              " 'nuclear program': 476,\n",
              " 'heard': 475,\n",
              " 'support trump': 475,\n",
              " 'shut': 474,\n",
              " 'leader': 474,\n",
              " 'sander': 474,\n",
              " 'anger': 474,\n",
              " 'perform': 474,\n",
              " 'depend': 474,\n",
              " 'top democrat': 474,\n",
              " ...}"
            ]
          },
          "metadata": {},
          "execution_count": 26
        }
      ]
    },
    {
      "cell_type": "code",
      "source": [
        "# Then we could plot the top 30 most frequency words distribution\n",
        "plt.figure(figsize = (20,10))\n",
        "plt.xticks(rotation=60)\n",
        "plt.title(\"The Distribution of the Key Words in Fake News\")\n",
        "plt.bar(list(fake_frequency.keys())[:30], list(fake_frequency.values())[:30])\n",
        "plt.show()"
      ],
      "metadata": {
        "id": "sEDkleaac9Ax",
        "colab": {
          "base_uri": "https://localhost:8080/",
          "height": 631
        },
        "outputId": "2550731c-873e-457d-ba3d-a03387436670"
      },
      "execution_count": null,
      "outputs": [
        {
          "output_type": "display_data",
          "data": {
            "text/plain": [
              "<Figure size 1440x720 with 1 Axes>"
            ],
            "image/png": "[encoded data removed]"
          },
          "metadata": {
            "needs_background": "light"
          }
        }
      ]
    },
    {
      "cell_type": "code",
      "source": [
        "plt.figure(figsize = (20,10))\n",
        "plt.xticks(rotation=60)\n",
        "plt.title(\"The Distribution of the Key Words in Real News\")\n",
        "plt.bar(list(real_frequency.keys())[:30], list(real_frequency.values())[:30])\n",
        "plt.show()"
      ],
      "metadata": {
        "id": "emcDF4_5mKF-",
        "colab": {
          "base_uri": "https://localhost:8080/",
          "height": 637
        },
        "outputId": "5d3b82e9-45d8-4f51-889b-df68574cbdf7"
      },
      "execution_count": null,
      "outputs": [
        {
          "output_type": "display_data",
          "data": {
            "text/plain": [
              "<Figure size 1440x720 with 1 Axes>"
            ],
            "image/png": "[encoded data removed]"
          },
          "metadata": {
            "needs_background": "light"
          }
        }
      ]
    },
    {
      "cell_type": "markdown",
      "source": [
        "The bar plots also show some similarities between fake news and real news; however, we think word frequency is the most significant attribute that differentiate fake news and real news.\n",
        "\n",
        "As a results, we are building our models using this attribute."
      ],
      "metadata": {
        "id": "jV_dLq9MoAth"
      }
    },
    {
      "cell_type": "markdown",
      "source": [
        "#5.Modelling"
      ],
      "metadata": {
        "id": "B4swHQ_Po9pR"
      }
    },
    {
      "cell_type": "markdown",
      "source": [
        "##5.1 Split Data"
      ],
      "metadata": {
        "id": "vxitdhjRpSQs"
      }
    },
    {
      "cell_type": "markdown",
      "source": [
        "Splitting the data (cleaned_news_df) into train set (80%) and test set (20%)."
      ],
      "metadata": {
        "id": "yIaOZotgGBMD"
      }
    },
    {
      "cell_type": "code",
      "source": [
        "x_train, x_test, y_train, y_test = train_test_split(cleaned_news_df['text'],cleaned_news_df['isFake'],test_size=0.2,random_state=10)\n",
        "len(x_train),len(x_test)"
      ],
      "metadata": {
        "id": "tgeUFcN1pgaH",
        "colab": {
          "base_uri": "https://localhost:8080/"
        },
        "outputId": "540f3d04-3b17-4e48-cd57-f68c22bb26f2"
      },
      "execution_count": null,
      "outputs": [
        {
          "output_type": "execute_result",
          "data": {
            "text/plain": [
              "(35751, 8938)"
            ]
          },
          "metadata": {},
          "execution_count": 6
        }
      ]
    },
    {
      "cell_type": "markdown",
      "source": [
        "##5.2 Encode Text Data"
      ],
      "metadata": {
        "id": "Q_4SRThOthlB"
      }
    },
    {
      "cell_type": "markdown",
      "source": [
        "To better process the data into Machine Learning models, We encode the text data into real number sparse matrix using the Term Frequency-Inverse Document Frequency (TFIDF). TFIDF transformation added 147877 features to each text data. "
      ],
      "metadata": {
        "id": "DC82b1NwG1c-"
      }
    },
    {
      "cell_type": "code",
      "source": [
        "tfidf = TfidfVectorizer()\n",
        "x_train = tfidf.fit_transform(x_train)\n",
        "x_test = tfidf.transform(x_test)\n",
        "x_train.shape,x_test.shape"
      ],
      "metadata": {
        "id": "hq8RHt5euGM-",
        "colab": {
          "base_uri": "https://localhost:8080/"
        },
        "outputId": "3457ad82-6f84-4ac4-fbef-e686b57696d5"
      },
      "execution_count": null,
      "outputs": [
        {
          "output_type": "execute_result",
          "data": {
            "text/plain": [
              "((35751, 147977), (8938, 147977))"
            ]
          },
          "metadata": {},
          "execution_count": 7
        }
      ]
    },
    {
      "cell_type": "markdown",
      "source": [
        "## 5.3 Logistic Regression"
      ],
      "metadata": {
        "id": "nNzAWuHlu-bv"
      }
    },
    {
      "cell_type": "markdown",
      "source": [
        "Because we are doing binary classification, the first model we choose is Logistic Regression. Logistic Regression is a widely used for binary classification and it uses sigmoid funtion as activate function to classify the data."
      ],
      "metadata": {
        "id": "U8kiFsqwJZzb"
      }
    },
    {
      "cell_type": "code",
      "source": [
        "# build logistic regression model\n",
        "log_reg = LogisticRegression()\n",
        "log_reg.fit(x_train, y_train)\n",
        "# use the model to predict on the test set\n",
        "y_pred_log = log_reg.predict(x_test)\n",
        "# find the accuracy\n",
        "log_acc = log_reg.score(x_test, y_test)\n",
        "log_acc"
      ],
      "metadata": {
        "id": "Dv3LXM7xujcC",
        "colab": {
          "base_uri": "https://localhost:8080/"
        },
        "outputId": "a213f880-6786-4ad6-f81d-244f56943413"
      },
      "execution_count": null,
      "outputs": [
        {
          "output_type": "execute_result",
          "data": {
            "text/plain": [
              "0.9812038487357351"
            ]
          },
          "metadata": {},
          "execution_count": 8
        }
      ]
    },
    {
      "cell_type": "markdown",
      "source": [
        "The accuracy of the trained logistic regression in test set is 98.12%, which is very high. \n",
        "\n",
        "A confusion matrix is generated to visualize the result. \n",
        "\n",
        "We also want to look at the $Recall = \\frac {TP}{TP+FN}$ and $Precision = \\frac {TP}{TP+FP}$ to envaluate our model.\n",
        "\n",
        "The definition of Recall is: from all positive classes, how many did the model predict correctly. \n",
        "\n",
        "The definition of Precision is: from all the positive predictions, how many of them are actually positive. \n",
        "\n",
        "Both Recall and Precision should be as high as possible."
      ],
      "metadata": {
        "id": "K-Zs60gMNwJ1"
      }
    },
    {
      "cell_type": "code",
      "source": [
        "# generate confusion matrix and visualize it\n",
        "log_reg_cm = confusion_matrix(y_test, y_pred_log)\n",
        "plt.title(\"Logistic Regression Confusion Matrix\")\n",
        "sns.heatmap(log_reg_cm, annot = True, fmt='.20g')\n",
        "plt.xlabel(\"Predicted\")\n",
        "plt.ylabel(\"Actual\")\n",
        "plt.show()"
      ],
      "metadata": {
        "id": "Aet90xdcwYx-",
        "colab": {
          "base_uri": "https://localhost:8080/",
          "height": 295
        },
        "outputId": "a87766f5-f691-40bf-9172-b10cb7c8259b"
      },
      "execution_count": null,
      "outputs": [
        {
          "output_type": "display_data",
          "data": {
            "text/plain": [
              "<Figure size 432x288 with 2 Axes>"
            ],
            "image/png": "[encoded data removed]"
          },
          "metadata": {
            "needs_background": "light"
          }
        }
      ]
    },
    {
      "cell_type": "markdown",
      "source": [
        "According to the confusion matrix above, we can see that the TN=4172, FP=76, FN=92 and TP=4598. \n",
        "\n",
        "Hence we can get $Recall=\\frac {4598}{4598+92}=0.9816$ and $Precision=\\frac {4598}{4598+76}=0.9837$.\n",
        "\n",
        "Both Recall and Precision are high."
      ],
      "metadata": {
        "id": "o9lvnnvYM9qI"
      }
    },
    {
      "cell_type": "markdown",
      "source": [
        "## 5.4 Naive Bayes Model"
      ],
      "metadata": {
        "id": "FDPivt_0dCvW"
      }
    },
    {
      "cell_type": "markdown",
      "source": [
        "Although we have good results from the Logistic Classification model, we want to consider other models to see if there is possible improvements. \n",
        "\n",
        "The second model we choose is Naive Bayes Model. Naive Bayes Model is based on applying Bayes' theorem with strong independence assumption between the features.\n",
        "\n",
        "There are several different type of Naive Bayes Model based on different probability distribution such as Gaussian and Multinomial distribution. \n",
        "\n",
        "We decided to use Mutinomial Naive Bayes model becuase our data encoded using TDIDF better fits this model. "
      ],
      "metadata": {
        "id": "MrY1m9sdWtcK"
      }
    },
    {
      "cell_type": "code",
      "source": [
        "# built niave bayes model\n",
        "nb_model = MultinomialNB()\n",
        "nb_model.fit(x_train, y_train)\n",
        "# use the model to predict on the test set\n",
        "y_pred_nb = nb_model.predict(x_test)\n",
        "# find the accuracy\n",
        "nb_acc = nb_model.score(x_test, y_test)\n",
        "nb_acc"
      ],
      "metadata": {
        "id": "L8jGFNKUdCWN",
        "colab": {
          "base_uri": "https://localhost:8080/"
        },
        "outputId": "de18b08f-ce35-47e9-b605-6c57c9218dd0"
      },
      "execution_count": null,
      "outputs": [
        {
          "output_type": "execute_result",
          "data": {
            "text/plain": [
              "0.9333184157529648"
            ]
          },
          "metadata": {},
          "execution_count": 10
        }
      ]
    },
    {
      "cell_type": "markdown",
      "source": [
        "The accuracy for Mutinomial Naive Bayes Model to predict the text data is 93.33%, which is not bad; however, it is lower then the accuracy from Logistic Regression model.\n",
        "\n",
        "The confusion matrix is generated below."
      ],
      "metadata": {
        "id": "2YzW2wXWZ1wU"
      }
    },
    {
      "cell_type": "code",
      "source": [
        "# generate confusion matrix and visualize it\n",
        "nb_cm = confusion_matrix(y_test, y_pred_nb)\n",
        "plt.title(\"Naive Bayes Confusion Matrix\")\n",
        "sns.heatmap(nb_cm, annot = True, fmt='.20g')\n",
        "plt.xlabel(\"Predicted\")\n",
        "plt.ylabel(\"Actual\")\n",
        "plt.show()"
      ],
      "metadata": {
        "id": "zZ6pNnF8gMUK",
        "colab": {
          "base_uri": "https://localhost:8080/",
          "height": 295
        },
        "outputId": "138c98da-071f-4922-b479-aed7e6d7a99f"
      },
      "execution_count": null,
      "outputs": [
        {
          "output_type": "display_data",
          "data": {
            "text/plain": [
              "<Figure size 432x288 with 2 Axes>"
            ],
            "image/png": "[encoded data removed]"
          },
          "metadata": {
            "needs_background": "light"
          }
        }
      ]
    },
    {
      "cell_type": "markdown",
      "source": [
        "Here TN=3947, FP=301, FN=295, TP=4395, we can get $Recall=\\frac {4395}{295+4395} = 0.9371$ and $Precision = {4395}{4395+301} = 0.9359$. Which are also lower then the results from Logistic Regression model."
      ],
      "metadata": {
        "id": "fOXncJt3YGqX"
      }
    },
    {
      "cell_type": "markdown",
      "source": [
        "## 5.5 Support Vector Machine"
      ],
      "metadata": {
        "id": "LnqCyTS6h3dp"
      }
    },
    {
      "cell_type": "markdown",
      "source": [
        "Another useful supervised machine learning model is Support Vector Machine (SVM). It is also a widely used model with learning algorithms that analyze data for classification and regression analysis. SVM classify data entries by finding a hyperplane that maximize the margins for two classes, as the following image shows."
      ],
      "metadata": {
        "id": "itXM7hjBZcc8"
      }
    },
    {
      "cell_type": "markdown",
      "source": [
        "![SVM_margin.png](data:image/png;base64,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)"
      ],
      "metadata": {
        "id": "voRbKaaZgM6p"
      }
    },
    {
      "cell_type": "code",
      "source": [
        "# built niave bayes model\n",
        "svm_model = SGDClassifier()\n",
        "svm_model.fit(x_train, y_train)\n",
        "# use the model to predict on the test set\n",
        "y_pred_svm = svm_model.predict(x_test)\n",
        "# find the accuracy\n",
        "svm_acc = svm_model.score(x_test, y_test)\n",
        "svm_acc"
      ],
      "metadata": {
        "id": "qqohQEIaiCEB",
        "colab": {
          "base_uri": "https://localhost:8080/"
        },
        "outputId": "ba8e8f30-0b9b-4d13-8ec0-edc1915cca73"
      },
      "execution_count": null,
      "outputs": [
        {
          "output_type": "execute_result",
          "data": {
            "text/plain": [
              "0.9838890132020586"
            ]
          },
          "metadata": {},
          "execution_count": 12
        }
      ]
    },
    {
      "cell_type": "markdown",
      "source": [
        "The accuracy for the trained SVM model to predict the test data set is 98.39%, which is a little bit better than the accuracy from Logistic Regression!\n",
        "\n",
        "The confusion matrix is generated below."
      ],
      "metadata": {
        "id": "FkQwpqsMhyfV"
      }
    },
    {
      "cell_type": "code",
      "source": [
        "# generate confusion matrix and visualize it\n",
        "svm_cm = confusion_matrix(y_test, y_pred_svm)\n",
        "plt.title(\"Support Vector Machine Confusion Matrix\")\n",
        "sns.heatmap(svm_cm, annot = True,fmt='.20g')\n",
        "plt.xlabel(\"Predicted\")\n",
        "plt.ylabel(\"Actual\")\n",
        "plt.show()"
      ],
      "metadata": {
        "id": "0t6orZYalEl7",
        "colab": {
          "base_uri": "https://localhost:8080/",
          "height": 295
        },
        "outputId": "9964cb7f-70a3-45ff-82a5-d8c824bac71d"
      },
      "execution_count": null,
      "outputs": [
        {
          "output_type": "display_data",
          "data": {
            "text/plain": [
              "<Figure size 432x288 with 2 Axes>"
            ],
            "image/png": "[encoded data removed]"
          },
          "metadata": {
            "needs_background": "light"
          }
        }
      ]
    },
    {
      "cell_type": "markdown",
      "source": [
        "Here TN=4186, FP = 62, FN = 56, TP = 4608, we can get $Recall = \\frac{4608}{4608+82} = 0.9825$ and $Precision = {4608}{4608+62} = 0.9867$, which are also a bit higher then results from Logistic Regression (0.9816 and 0.9837)."
      ],
      "metadata": {
        "id": "dcTAHzIeirD2"
      }
    },
    {
      "cell_type": "markdown",
      "source": [
        "##5.6 Bi-directional Long Short-Term Memory Model"
      ],
      "metadata": {
        "id": "Zh1hEPnrmPql"
      }
    },
    {
      "cell_type": "markdown",
      "source": [
        "Now, we have used three different machine learning model to classify real news and fake news. The accuracy of these models are good, but do we have a even better model? \n",
        "\n",
        "We are considering building a neural network; however, we only learned CNN from our class, which is not suitable to our data (we have text data rather than image data).\n",
        "\n",
        "Therefore, we decided to use bi-directional LSTM (Long Short-Term Memory) **recurrent neural network**. Bi-directional long-short term memory is the process of making any neural network with the sequence information in both directions backward (furture to past) or forward (past to future). \n",
        "\n",
        "**Recurrent neural network (RNN)** is a type of neural network that is used to develop NLP models. RNN uses feedback loops to remember the sequence of the data and use the data pattern to predict. \n",
        "\n",
        "The reason that we use bi-directional LSTM is that the content that comes later in a text needs to be infered from the content that comes ealier in a text."
      ],
      "metadata": {
        "id": "9xOpu820kmKx"
      }
    },
    {
      "cell_type": "markdown",
      "source": [
        "![Deep-Dive-into-Bidirectional-LSTM-i2tutorials.jpg](data:image/jpeg;base64,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)"
      ],
      "metadata": {
        "id": "5OG2rE7nkful"
      }
    },
    {
      "cell_type": "markdown",
      "source": [
        "To apply Bi-LSTM RNN, we need to tokenized the text content of the news. \n",
        "\n",
        "After encoding, we have 5022 features rather than 147877 features. \n",
        "\n",
        "We choose to use fewer features because the RAM may not be enough for us to train the neural network with the original 147877 features."
      ],
      "metadata": {
        "id": "N8r0xc6qpdJd"
      }
    },
    {
      "cell_type": "code",
      "source": [
        "x_train2, x_test2, y_train2, y_test2 = train_test_split(cleaned_news_df['text'],cleaned_news_df['isFake'],test_size=0.2,random_state=10)\n",
        "tokenizer = Tokenizer()\n",
        "tokenizer.fit_on_texts(x_train2.values)\n",
        "x_train2 = tokenizer.texts_to_sequences(x_train2.values)\n",
        "x_train2 = pad_sequences(x_train2)\n",
        "x_test2 = tokenizer.texts_to_sequences(x_test2.values)\n",
        "x_test2 = pad_sequences(x_test2)"
      ],
      "metadata": {
        "id": "JRd9rmdc-ePH"
      },
      "execution_count": null,
      "outputs": []
    },
    {
      "cell_type": "code",
      "source": [
        "x_train2.shape,x_test2.shape"
      ],
      "metadata": {
        "colab": {
          "base_uri": "https://localhost:8080/"
        },
        "id": "vJ7KKdNVPsum",
        "outputId": "8896a8bd-5816-4a7f-ffaa-7444a4e7d1b0"
      },
      "execution_count": null,
      "outputs": [
        {
          "output_type": "execute_result",
          "data": {
            "text/plain": [
              "((35751, 5022), (8938, 5022))"
            ]
          },
          "metadata": {},
          "execution_count": 5
        }
      ]
    },
    {
      "cell_type": "markdown",
      "source": [
        "The structure of our RNN is: \n",
        "\n",
        "Input layer with 5022 features -> Bi-LSTM layers with 256 units (128 in each direction) -> Dropout layer with 256 units and 0.2 drop ratio (which is used to avoid overfitting) -> Dense layer with 64 units, we use ReLU as the activation function -> Output layer with sigmoid activation fuction to classify between 0/1."
      ],
      "metadata": {
        "id": "vq15Anr3qPK5"
      }
    },
    {
      "cell_type": "code",
      "source": [
        "BRNN = Sequential()\n",
        "BRNN.add(Embedding(len(tokenizer.word_index) + 1, 256, input_length = x_train2.shape[1]))\n",
        "BRNN.add(Bidirectional(LSTM(128)))\n",
        "BRNN.add(Dropout(0.2))\n",
        "BRNN.add(Dense(64, activation = 'relu'))\n",
        "BRNN.add(Dense(1,activation='sigmoid'))\n",
        "BRNN.compile(loss = 'binary_crossentropy', optimizer='adam',metrics = ['accuracy'])\n",
        "print(BRNN.summary())"
      ],
      "metadata": {
        "id": "nD9_EY97cihP",
        "colab": {
          "base_uri": "https://localhost:8080/"
        },
        "outputId": "2bcf35b4-8757-4616-d4eb-a8f4aaf2ac5b"
      },
      "execution_count": null,
      "outputs": [
        {
          "output_type": "stream",
          "name": "stdout",
          "text": [
            "Model: \"sequential\"\n",
            "_________________________________________________________________\n",
            " Layer (type)                Output Shape              Param #   \n",
            "=================================================================\n",
            " embedding (Embedding)       (None, 5022, 256)         37889024  \n",
            "                                                                 \n",
            " bidirectional (Bidirectiona  (None, 256)              394240    \n",
            " l)                                                              \n",
            "                                                                 \n",
            " dropout (Dropout)           (None, 256)               0         \n",
            "                                                                 \n",
            " dense (Dense)               (None, 64)                16448     \n",
            "                                                                 \n",
            " dense_1 (Dense)             (None, 1)                 65        \n",
            "                                                                 \n",
            "=================================================================\n",
            "Total params: 38,299,777\n",
            "Trainable params: 38,299,777\n",
            "Non-trainable params: 0\n",
            "_________________________________________________________________\n",
            "None\n"
          ]
        }
      ]
    },
    {
      "cell_type": "code",
      "source": [
        "BRNN.fit(x_train2, y_train2, epochs=5, batch_size=128)"
      ],
      "metadata": {
        "id": "HQPtnbCPdgyE",
        "colab": {
          "base_uri": "https://localhost:8080/"
        },
        "outputId": "c4090a27-e5d2-48a7-f300-0d8a257c6a0b"
      },
      "execution_count": null,
      "outputs": [
        {
          "output_type": "stream",
          "name": "stdout",
          "text": [
            "Epoch 1/5\n",
            "280/280 [==============================] - 248s 860ms/step - loss: 0.1258 - accuracy: 0.9538\n",
            "Epoch 2/5\n",
            "280/280 [==============================] - 241s 861ms/step - loss: 0.0285 - accuracy: 0.9913\n",
            "Epoch 3/5\n",
            "280/280 [==============================] - 242s 864ms/step - loss: 0.0175 - accuracy: 0.9944\n",
            "Epoch 4/5\n",
            "280/280 [==============================] - 242s 864ms/step - loss: 0.0132 - accuracy: 0.9956\n",
            "Epoch 5/5\n",
            "280/280 [==============================] - 245s 877ms/step - loss: 0.0051 - accuracy: 0.9986\n"
          ]
        },
        {
          "output_type": "execute_result",
          "data": {
            "text/plain": [
              "<keras.callbacks.History at 0x7f9e17ff7dd0>"
            ]
          },
          "metadata": {},
          "execution_count": 7
        }
      ]
    },
    {
      "cell_type": "code",
      "source": [
        "score, accuracy= BRNN.evaluate(x_test2, y_test2, batch_size=128)\n",
        "print(\"The accuracy of the LSTM in test data is \", accuracy)"
      ],
      "metadata": {
        "id": "e05K8rpxN7Mb",
        "colab": {
          "base_uri": "https://localhost:8080/"
        },
        "outputId": "75f09599-e5a6-4706-a0f8-3449c197010e"
      },
      "execution_count": null,
      "outputs": [
        {
          "output_type": "stream",
          "name": "stdout",
          "text": [
            "70/70 [==============================] - 20s 281ms/step - loss: 0.0495 - accuracy: 0.9887\n",
            "The accuracy of the LSTM in test data is  0.9886999130249023\n"
          ]
        }
      ]
    },
    {
      "cell_type": "markdown",
      "source": [
        "The accuracy of using LSTM RNN to predict test set is 98.87%, which is the highest of all models!"
      ],
      "metadata": {
        "id": "BnQdT7V8r_IZ"
      }
    },
    {
      "cell_type": "code",
      "source": [
        "# predict by using test set\n",
        "y_pred_lstm =np.round(BRNN.predict(x_test2)).astype(int) "
      ],
      "metadata": {
        "colab": {
          "base_uri": "https://localhost:8080/"
        },
        "id": "rOf3zPOnmW2i",
        "outputId": "b8f563f5-e82a-4033-c4d5-e0e48040af01"
      },
      "execution_count": null,
      "outputs": [
        {
          "output_type": "stream",
          "name": "stdout",
          "text": [
            "280/280 [==============================] - 39s 139ms/step\n"
          ]
        }
      ]
    },
    {
      "cell_type": "markdown",
      "source": [
        "The confusion matrix is generated below."
      ],
      "metadata": {
        "id": "WBnpOQLWs_sn"
      }
    },
    {
      "cell_type": "code",
      "source": [
        "# generate confusion matrix and visualize it\n",
        "lstm_cm= confusion_matrix(y_test2, y_pred_lstm)\n",
        "plt.title(\"LSTM Confusion Matrix\")\n",
        "sns.heatmap(lstm_cm, annot = True, fmt='.20g')\n",
        "plt.xlabel(\"Predicted\")\n",
        "plt.ylabel(\"Actual\")\n",
        "plt.show()\n",
        "lstm_cm"
      ],
      "metadata": {
        "colab": {
          "base_uri": "https://localhost:8080/",
          "height": 331
        },
        "id": "3LvwzSKMnExK",
        "outputId": "80dc150c-9a7c-42b2-b18b-0dbd72c437cd"
      },
      "execution_count": null,
      "outputs": [
        {
          "output_type": "display_data",
          "data": {
            "text/plain": [
              "<Figure size 432x288 with 2 Axes>"
            ],
            "image/png": "[encoded data removed]"
          },
          "metadata": {
            "needs_background": "light"
          }
        },
        {
          "output_type": "execute_result",
          "data": {
            "text/plain": [
              "array([[4174,   74],\n",
              "       [  27, 4663]])"
            ]
          },
          "metadata": {},
          "execution_count": 13
        }
      ]
    },
    {
      "cell_type": "markdown",
      "source": [
        "For confusion matrix, we have TN=4174, TP=74, FN=27, TP=4663 so that we can get $Recall=\\frac {4663}{4663+27}=0.9942$ and $Precision = \\frac {4663}{4663+74} = 0.9844$."
      ],
      "metadata": {
        "id": "26aoObVusZ4a"
      }
    },
    {
      "cell_type": "markdown",
      "source": [
        "##5.7 Conclusion"
      ],
      "metadata": {
        "id": "doIywvhEuFK3"
      }
    },
    {
      "cell_type": "markdown",
      "source": [
        "Compare the accuracy, recall and precision of each model. "
      ],
      "metadata": {
        "id": "bSO5LNAAuX4g"
      }
    },
    {
      "cell_type": "code",
      "source": [
        "model_data = {'Accuracy':{'Logistic Regression':0.9812,\"Naive Bayes\":0.9333, \"SVM\":0.9839, \"Bi-LSTM\":0.9887},\n",
        "        'Recall':{'Logistic Regression':0.9816,\"Naive Bayes\":0.9371, \"SVM\":0.9825, \"Bi-LSTM\":0.9942},\n",
        "        'Precision':{'Logistic Regression':0.9837,\"Naive Bayes\":0.9359, \"SVM\":0.9867, \"Bi-LSTM\":0.9844}}\n",
        "model_df = pd.DataFrame(model_data)\n",
        "model_df\n",
        "        "
      ],
      "metadata": {
        "colab": {
          "base_uri": "https://localhost:8080/",
          "height": 175
        },
        "id": "eIWA4mLMxIgo",
        "outputId": "fef8f457-f658-4424-d609-46017f4e4e95"
      },
      "execution_count": null,
      "outputs": [
        {
          "output_type": "execute_result",
          "data": {
            "text/plain": [
              "                     Accuracy  Recall  Precision\n",
              "Logistic Regression    0.9812  0.9816     0.9837\n",
              "Naive Bayes            0.9333  0.9371     0.9359\n",
              "SVM                    0.9839  0.9825     0.9867\n",
              "Bi-LSTM                0.9887  0.9942     0.9844"
            ],
            "text/html": [
              "\n",
              "  <div id=\"df-bf552a0f-dda0-45b1-b996-c7294d950944\">\n",
              "    <div class=\"colab-df-container\">\n",
              "      <div>\n",
              "<style scoped>\n",
              "    .dataframe tbody tr th:only-of-type {\n",
              "        vertical-align: middle;\n",
              "    }\n",
              "\n",
              "    .dataframe tbody tr th {\n",
              "        vertical-align: top;\n",
              "    }\n",
              "\n",
              "    .dataframe thead th {\n",
              "        text-align: right;\n",
              "    }\n",
              "</style>\n",
              "<table border=\"1\" class=\"dataframe\">\n",
              "  <thead>\n",
              "    <tr style=\"text-align: right;\">\n",
              "      <th></th>\n",
              "      <th>Accuracy</th>\n",
              "      <th>Recall</th>\n",
              "      <th>Precision</th>\n",
              "    </tr>\n",
              "  </thead>\n",
              "  <tbody>\n",
              "    <tr>\n",
              "      <th>Logistic Regression</th>\n",
              "      <td>0.9812</td>\n",
              "      <td>0.9816</td>\n",
              "      <td>0.9837</td>\n",
              "    </tr>\n",
              "    <tr>\n",
              "      <th>Naive Bayes</th>\n",
              "      <td>0.9333</td>\n",
              "      <td>0.9371</td>\n",
              "      <td>0.9359</td>\n",
              "    </tr>\n",
              "    <tr>\n",
              "      <th>SVM</th>\n",
              "      <td>0.9839</td>\n",
              "      <td>0.9825</td>\n",
              "      <td>0.9867</td>\n",
              "    </tr>\n",
              "    <tr>\n",
              "      <th>Bi-LSTM</th>\n",
              "      <td>0.9887</td>\n",
              "      <td>0.9942</td>\n",
              "      <td>0.9844</td>\n",
              "    </tr>\n",
              "  </tbody>\n",
              "</table>\n",
              "</div>\n",
              "      <button class=\"colab-df-convert\" onclick=\"convertToInteractive('df-bf552a0f-dda0-45b1-b996-c7294d950944')\"\n",
              "              title=\"Convert this dataframe to an interactive table.\"\n",
              "              style=\"display:none;\">\n",
              "        \n",
              "  <svg xmlns=\"http://www.w3.org/2000/svg\" height=\"24px\"viewBox=\"0 0 24 24\"\n",
              "       width=\"24px\">\n",
              "    <path d=\"M0 0h24v24H0V0z\" fill=\"none\"/>\n",
              "    <path d=\"M18.56 5.44l.94 2.06.94-2.06 2.06-.94-2.06-.94-.94-2.06-.94 2.06-2.06.94zm-11 1L8.5 8.5l.94-2.06 2.06-.94-2.06-.94L8.5 2.5l-.94 2.06-2.06.94zm10 10l.94 2.06.94-2.06 2.06-.94-2.06-.94-.94-2.06-.94 2.06-2.06.94z\"/><path d=\"M17.41 7.96l-1.37-1.37c-.4-.4-.92-.59-1.43-.59-.52 0-1.04.2-1.43.59L10.3 9.45l-7.72 7.72c-.78.78-.78 2.05 0 2.83L4 21.41c.39.39.9.59 1.41.59.51 0 1.02-.2 1.41-.59l7.78-7.78 2.81-2.81c.8-.78.8-2.07 0-2.86zM5.41 20L4 18.59l7.72-7.72 1.47 1.35L5.41 20z\"/>\n",
              "  </svg>\n",
              "      </button>\n",
              "      \n",
              "  <style>\n",
              "    .colab-df-container {\n",
              "      display:flex;\n",
              "      flex-wrap:wrap;\n",
              "      gap: 12px;\n",
              "    }\n",
              "\n",
              "    .colab-df-convert {\n",
              "      background-color: #E8F0FE;\n",
              "      border: none;\n",
              "      border-radius: 50%;\n",
              "      cursor: pointer;\n",
              "      display: none;\n",
              "      fill: #1967D2;\n",
              "      height: 32px;\n",
              "      padding: 0 0 0 0;\n",
              "      width: 32px;\n",
              "    }\n",
              "\n",
              "    .colab-df-convert:hover {\n",
              "      background-color: #E2EBFA;\n",
              "      box-shadow: 0px 1px 2px rgba(60, 64, 67, 0.3), 0px 1px 3px 1px rgba(60, 64, 67, 0.15);\n",
              "      fill: #174EA6;\n",
              "    }\n",
              "\n",
              "    [theme=dark] .colab-df-convert {\n",
              "      background-color: #3B4455;\n",
              "      fill: #D2E3FC;\n",
              "    }\n",
              "\n",
              "    [theme=dark] .colab-df-convert:hover {\n",
              "      background-color: #434B5C;\n",
              "      box-shadow: 0px 1px 3px 1px rgba(0, 0, 0, 0.15);\n",
              "      filter: drop-shadow(0px 1px 2px rgba(0, 0, 0, 0.3));\n",
              "      fill: #FFFFFF;\n",
              "    }\n",
              "  </style>\n",
              "\n",
              "      <script>\n",
              "        const buttonEl =\n",
              "          document.querySelector('#df-bf552a0f-dda0-45b1-b996-c7294d950944 button.colab-df-convert');\n",
              "        buttonEl.style.display =\n",
              "          google.colab.kernel.accessAllowed ? 'block' : 'none';\n",
              "\n",
              "        async function convertToInteractive(key) {\n",
              "          const element = document.querySelector('#df-bf552a0f-dda0-45b1-b996-c7294d950944');\n",
              "          const dataTable =\n",
              "            await google.colab.kernel.invokeFunction('convertToInteractive',\n",
              "                                                     [key], {});\n",
              "          if (!dataTable) return;\n",
              "\n",
              "          const docLinkHtml = 'Like what you see? Visit the ' +\n",
              "            '<a target=\"_blank\" href=https://colab.research.google.com/notebooks/data_table.ipynb>data table notebook</a>'\n",
              "            + ' to learn more about interactive tables.';\n",
              "          element.innerHTML = '';\n",
              "          dataTable['output_type'] = 'display_data';\n",
              "          await google.colab.output.renderOutput(dataTable, element);\n",
              "          const docLink = document.createElement('div');\n",
              "          docLink.innerHTML = docLinkHtml;\n",
              "          element.appendChild(docLink);\n",
              "        }\n",
              "      </script>\n",
              "    </div>\n",
              "  </div>\n",
              "  "
            ]
          },
          "metadata": {},
          "execution_count": 3
        }
      ]
    },
    {
      "cell_type": "markdown",
      "source": [
        "According to the dataframe above, we can see that all the machine learning models we used have accuracy, recall, and precision above 93%. \n",
        "\n",
        "We can conclude that all models are effective classifying fake news and real news. \n",
        "\n",
        "Several key results:\n",
        "1. Naive Bayes is the \"worst\" model with lowest values in accuracy, recall and precision. \n",
        "\n",
        "2. Logistic Regression and SVM's performance are very similar. Although SVM is the better model in terms of all three metrics, it does not have very obvious advantages. \n",
        "\n",
        "3. Bi-LSTM RNN is the best model among these four models if we only consider these three metrics (accuracy, recall and precision); however, it is better by a small margin and takes a long time to train. \n",
        "\n",
        "Even though there isn't too much space for improvments, Bi-LSTM neural network is very strong because we only had 5022 features, which is much smaller than 147877 features that we used to train other three machine learning models. If we could solve the RAM problem, we may use more features to train the Bi-LSTM RNN, which may further improve the performance of it."
      ],
      "metadata": {
        "id": "-V8lVcCAz1gu"
      }
    },
    {
      "cell_type": "markdown",
      "source": [
        "# 6.Challenges and Obstacles Faced"
      ],
      "metadata": {
        "id": "IW8MojGlYgMI"
      }
    },
    {
      "cell_type": "markdown",
      "source": [
        "1. We had to change the topic of our project. Our initial topic was a data set named \"Health Nutrition and Population\" which was suggested in class. This dataset is hard to analyze because it covers a wide range of topics. Also, its structure is complicated and we had to spent time to reshape it in order to extract useful information. The biggest problem was the limited number of data entries. Because of the presence of many NaN, after cleaning the data, only 14k rows are left, which is not big enough for model such as neural network. After discussing with our TA, we switched to a new data set about fake news.\n",
        "\n",
        "2. For our new dataset, data cleaning was the biggest obstacle. We spent a long time thinking about how to clean the 'text' column useful infomation can be extracted. In addition, applying our text cleaning function to the dataframe took us a long time; consequently, we decided to save the cleaned dataset to a new csv file (cleaned_news).\n",
        "\n",
        "3. Since we are dealing with text data rather than image data, when building neural network, we choose a different model than convolutional neural network, which we learned in class. None of us have previous experience in natural language process, so we had to study together to find a new model. When applying LSTM BRNN model, we tried our best to build it in pytorch, so we eventually switched to keras, which required additional learning time."
      ],
      "metadata": {
        "id": "SOO5k_WCYyJM"
      }
    },
    {
      "cell_type": "markdown",
      "source": [
        "#7. Future Direction"
      ],
      "metadata": {
        "id": "FFLJP4xsdQNV"
      }
    },
    {
      "cell_type": "markdown",
      "source": [
        "1. Consider including more features to train the models, for example, the comments of each news. To accomplish this, we need to find more complex dataset.\n",
        "\n",
        "2. In LSTM model part, we failed to build it up using pytorch; however, since Pytorch is more flexible, dynamic, and has more efficient memory usage, we want to try to build the model again using pytorch.\n",
        "\n",
        "3. We are currently using only binary classification models, if possible, we want to analyze the content of news using more complex models so we can have a complete view on their effects and influences.\n",
        "\n",
        "4. Our TA suggested that we can use a number of different encoding method (Gpt3, bert, etc.), we want to consider them as another future improvement. "
      ],
      "metadata": {
        "id": "CJaxizHYjTd4"
      }
    }
  ]
}